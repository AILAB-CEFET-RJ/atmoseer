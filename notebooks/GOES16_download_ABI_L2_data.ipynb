{
 "cells": [
  {
   "cell_type": "markdown",
   "metadata": {},
   "source": [
    "source: https://www.star.nesdis.noaa.gov/atmospheric-composition-training/python_abi_level2_download.php"
   ]
  },
  {
   "cell_type": "code",
   "execution_count": 1,
   "metadata": {},
   "outputs": [],
   "source": [
    "# Import Python packages\n",
    "\n",
    "# Library to perform array operations\n",
    "import numpy as np\n",
    "\n",
    "# Module to interface with Amazon Simple Storage Service (S3)\n",
    "import s3fs\n",
    "\n",
    "# Module for manipulating dates and times\n",
    "import datetime\n",
    "\n",
    "# Library to create progress bars for loops/functions\n",
    "from tqdm import tqdm\n",
    "\n",
    "# Module for accessing system-specific parameters and functions\n",
    "import sys\n",
    "\n",
    "# Library to access core utilities for Python packages\n",
    "from packaging.version import parse\n",
    "\n",
    "# Module to set filesystem paths appropriate for user's operating system\n",
    "from pathlib import Path\n",
    "\n",
    "# Modules to create interactive menus in Jupyter Notebook\n",
    "from IPython.display import display\n",
    "import ipywidgets as widgets"
   ]
  },
  {
   "cell_type": "code",
   "execution_count": 2,
   "metadata": {},
   "outputs": [
    {
     "name": "stdout",
     "output_type": "stream",
     "text": [
      "If you change menu selections (e.g., to run another search), do NOT re-run this block!\n",
      "Re-running will re-set all menus to their defaults!\n"
     ]
    },
    {
     "data": {
      "application/vnd.jupyter.widget-view+json": {
       "model_id": "b38f6aaa9a5a4d928f08b65424280592",
       "version_major": 2,
       "version_minor": 0
      },
      "text/plain": [
       "Dropdown(description='Satellite:', layout=Layout(width='375px'), options=(('GOES-16', 16), ('GOES-17', 17)), s…"
      ]
     },
     "metadata": {},
     "output_type": "display_data"
    },
    {
     "data": {
      "application/vnd.jupyter.widget-view+json": {
       "model_id": "d858b4a6fbd643b6b1f6a69f32bc99f1",
       "version_major": 2,
       "version_minor": 0
      },
      "text/plain": [
       "Dropdown(description='Product:', layout=Layout(width='375px'), options=('Aerosol Detection', 'Aerosol Optical …"
      ]
     },
     "metadata": {},
     "output_type": "display_data"
    },
    {
     "data": {
      "application/vnd.jupyter.widget-view+json": {
       "model_id": "e8c564ed23ac45cbb921c42e4be52334",
       "version_major": 2,
       "version_minor": 0
      },
      "text/plain": [
       "Dropdown(description='Scan Sector:', layout=Layout(width='375px'), options=('Full Disk', 'CONUS', 'Meso 1', 'M…"
      ]
     },
     "metadata": {},
     "output_type": "display_data"
    },
    {
     "data": {
      "application/vnd.jupyter.widget-view+json": {
       "model_id": "aa46a0dca964459ebb3ecb78a42cf049",
       "version_major": 2,
       "version_minor": 0
      },
      "text/plain": [
       "Dropdown(description='Year:', layout=Layout(width='375px'), options=(('2019', 2019), ('2020', 2020), ('2021', …"
      ]
     },
     "metadata": {},
     "output_type": "display_data"
    },
    {
     "data": {
      "application/vnd.jupyter.widget-view+json": {
       "model_id": "7ab5d0c5c98e4941a20fd23f52f17748",
       "version_major": 2,
       "version_minor": 0
      },
      "text/plain": [
       "Dropdown(description='Month:', layout=Layout(width='375px'), options=(('Jan', 1), ('Feb', 2), ('Mar', 3), ('Ap…"
      ]
     },
     "metadata": {},
     "output_type": "display_data"
    },
    {
     "data": {
      "application/vnd.jupyter.widget-view+json": {
       "model_id": "f4d19536ee7241f0b1e841a72b80b6a8",
       "version_major": 2,
       "version_minor": 0
      },
      "text/plain": [
       "Dropdown(description='Day:', layout=Layout(width='375px'), options=(('1', 1), ('2', 2), ('3', 3), ('4', 4), ('…"
      ]
     },
     "metadata": {},
     "output_type": "display_data"
    },
    {
     "data": {
      "application/vnd.jupyter.widget-view+json": {
       "model_id": "7e463598598746fd9c1914821a668185",
       "version_major": 2,
       "version_minor": 0
      },
      "text/plain": [
       "HBox(children=(Dropdown(description='Start Hour (UTC):', layout=Layout(width='375px'), options=('00', '01', '0…"
      ]
     },
     "metadata": {},
     "output_type": "display_data"
    },
    {
     "data": {
      "application/vnd.jupyter.widget-view+json": {
       "model_id": "45d2b6775268415aa3c3f514cf171083",
       "version_major": 2,
       "version_minor": 0
      },
      "text/plain": [
       "HBox(children=(Dropdown(description='End Hour (UTC):', layout=Layout(width='375px'), options=('00', '01', '02'…"
      ]
     },
     "metadata": {},
     "output_type": "display_data"
    }
   ],
   "source": [
    "# Enter satellite, ABI L2 product, view sector, observation date & start/end times for AWS search\n",
    "# Selections are made using interactive Jupyter Notebook widgets\n",
    "# Run this block *once* to generate menus\n",
    "# When main function is run, it reads \".value\" of each menu selection\n",
    "# Do NOT re-run block if you change menu selections (re-running block resets menus to defaults)!\n",
    "\n",
    "# Formatting settings for drop-down menus\n",
    "style = {'description_width':'120px'}\n",
    "layout = widgets.Layout(width='375px')\n",
    "\n",
    "# Create drop-down menus using widgets\n",
    "satellite = widgets.Dropdown(options=[('GOES-16', 16), ('GOES-17', 17)], description='Satellite:', style=style, layout=layout)\n",
    "product = widgets.Dropdown(options=[('Aerosol Detection'), ('Aerosol Optical Depth'), ('Clear Sky Mask'), ('Cloud & Moisture Imagery'), ('Cloud & Moisture Imagery Multiband'), ('Cloud Optical Depth'), ('Cloud Particle Size'), ('Cloud Top Height'), ('Cloud Top Phase'), ('Cloud Top Pressure'), ('Cloud Top Temperature'), ('Derived Motion Winds'), ('Derived Stability Indices'), ('Downward Shortwave Radiation'), ('Fire Hotspot Characterization'), ('Land Surface Temperature'), ('Legacy Vertical Moisture Profile'), ('Legacy Vertical Temperature Profile'), ('Rainfall Rate/QPE'), ('Reflected Shortwave Radiation'), ('Sea Surface Temperature'), ('Total Precipitable Water'), ('Volcanic Ash')], description='Product:', style=style, layout=layout)\n",
    "sector = widgets.Dropdown(options=[('Full Disk'), ('CONUS'), ('Meso 1'), ('Meso 2')], description='Scan Sector:', style=style, layout=layout)\n",
    "year = widgets.Dropdown(options=[('2019', 2019), ('2020', 2020), ('2021', 2021), ('2022', 2022), ('2023', 2023), ('2024', 2024), ('2025', 2025)], description='Year:', style=style, layout=layout)\n",
    "month = widgets.Dropdown(options=[('Jan', 1), ('Feb', 2), ('Mar', 3), ('Apr', 4), ('May', 5), ('Jun', 6), ('Jul', 7), ('Aug', 8), ('Sep', 9), ('Oct', 10), ('Nov', 11), ('Dec', 12)], description='Month:', style=style, layout=layout)\n",
    "day = widgets.Dropdown(options=[('1', 1), ('2', 2), ('3', 3), ('4', 4), ('5', 5), ('6', 6), ('7', 7), ('8', 8), ('9', 9), ('10', 10), ('11', 11), ('12', 12), ('13', 13), ('14', 14), ('15', 15), ('16', 16), ('17', 17), ('18', 18), ('19', 19), ('20', 20), ('21', 21), ('22', 22), ('23', 23), ('24', 24), ('25', 25), ('26', 26), ('27', 27), ('28', 28), ('29', 29), ('30', 30), ('31', 31)], description='Day:', style=style, layout=layout)\n",
    "shour = widgets.Dropdown(options=[('00'), ('01'), ('02'), ('03'), ('04'), ('05'), ('06'), ('07'), ('08'), ('09'), ('10'), ('11'), ('12'), ('13'), ('14'), ('15'), ('16'), ('17'), ('18'), ('19'), ('20'), ('21'), ('22'), ('23')], description='Start Hour (UTC):', style=style, layout=layout)\n",
    "smin = widgets.Dropdown(options=[('00'), ('01'), ('02'), ('03'), ('04'), ('05'), ('06'), ('07'), ('08'), ('09'), ('10'), ('11'), ('12'), ('13'), ('14'), ('15'), ('16'), ('17'), ('18'), ('19'), ('20'), ('21'), ('22'), ('23'), ('24'), ('25'), ('26'), ('27'), ('28'), ('29'), ('30'), ('31'), ('32'), ('33'), ('34'), ('35'), ('36'), ('37'), ('38'), ('39'), ('40'), ('41'), ('42'), ('43'), ('44'), ('45'), ('46'), ('47'), ('48'), ('49'), ('50'), ('51'), ('52'), ('53'), ('54'), ('55'), ('56'), ('57'), ('58'), ('59')], description='Start Minutes (UTC):', style=style, layout=layout)\n",
    "ehour = widgets.Dropdown(options=[('00'), ('01'), ('02'), ('03'), ('04'), ('05'), ('06'), ('07'), ('08'), ('09'), ('10'), ('11'), ('12'), ('13'), ('14'), ('15'), ('16'), ('17'), ('18'), ('19'), ('20'), ('21'), ('22'), ('23')], description='End Hour (UTC):', style=style, layout=layout)\n",
    "emin = widgets.Dropdown(options=[('00'), ('01'), ('02'), ('03'), ('04'), ('05'), ('06'), ('07'), ('08'), ('09'), ('10'), ('11'), ('12'), ('13'), ('14'), ('15'), ('16'), ('17'), ('18'), ('19'), ('20'), ('21'), ('22'), ('23'), ('24'), ('25'), ('26'), ('27'), ('28'), ('29'), ('30'), ('31'), ('32'), ('33'), ('34'), ('35'), ('36'), ('37'), ('38'), ('39'), ('40'), ('41'), ('42'), ('43'), ('44'), ('45'), ('46'), ('47'), ('48'), ('49'), ('50'), ('51'), ('52'), ('53'), ('54'), ('55'), ('56'), ('57'), ('58'), ('59')], description='End Minutes (UTC):', style=style, layout=layout)\n",
    "\n",
    "# Format observation start/end time hour and minutes menus to display side-by-side\n",
    "start_time = widgets.HBox([shour, smin])\n",
    "end_time = widgets.HBox([ehour, emin])\n",
    "\n",
    "# Display drop-down menus\n",
    "print('If you change menu selections (e.g., to run another search), do NOT re-run this block!\\nRe-running will re-set all menus to their defaults!')\n",
    "display(satellite, product, sector, year, month, day)\n",
    "display(start_time, end_time)"
   ]
  },
  {
   "cell_type": "code",
   "execution_count": 3,
   "metadata": {},
   "outputs": [],
   "source": [
    "# Find Julian day from user-specified observation year/month/day\n",
    "# ABI data files are classified by Julian day; needed for AWS search\n",
    "# \"year\", \"month\", \"day\": parameter variables from widget menus, set in main function\n",
    "\n",
    "def find_julian(year, month, day):\n",
    "    calendar = datetime.datetime(year, month, day)\n",
    "    julian_day = calendar.strftime('%j')\n",
    "    \n",
    "    return julian_day"
   ]
  },
  {
   "cell_type": "code",
   "execution_count": 4,
   "metadata": {},
   "outputs": [],
   "source": [
    "# Find ABI L2 product abbreviation from user-specified product/scan sector\n",
    "# Abbreviation is part of ABI file name; needed for AWS search\n",
    "# \"sector\", \"product\": parameter variables from widget menus, set in main function\n",
    "\n",
    "def get_product_abbreviation(sector, product):\n",
    "    \n",
    "    # Define dictionary keys\n",
    "    keys = ['Full Disk', 'CONUS', 'Meso 1', 'Meso 2']\n",
    "    \n",
    "    # Define dictionary values for each ABI L2 product \n",
    "    if product == 'Aerosol Detection':\n",
    "        values = ['ABI-L2-ADPF', 'ABI-L2-ADPC', 'ABI-L2-ADPM', 'ABI-L2-ADPM']\n",
    "    elif product == 'Aerosol Optical Depth':\n",
    "        values = ['ABI-L2-AODF', 'ABI-L2-AODC', 'None', 'None']\n",
    "    elif product == 'Clear Sky Mask':\n",
    "        values = ['ABI-L2-ACMF', 'ABI-L2-ACMC', 'ABI-L2-ACMM', 'ABI-L2-ACMM']\n",
    "    elif product == 'Cloud & Moisture Imagery':\n",
    "        values = ['ABI-L2-CMIPF', 'ABI-L2-CMIPC', 'ABI-L2-CMIPM', 'ABI-L2-CMIPM']\n",
    "    elif product == 'Cloud & Moisture Imagery Multiband':\n",
    "        values = ['ABI-L2-MCMIPF', 'ABI-L2-MCMIPC', 'ABI-L2-MCMIPM', 'ABI-L2-MCMIPM']\n",
    "    elif product == 'Cloud Optical Depth':\n",
    "        values = ['ABI-L2-CODF', 'ABI-L2-CODC', 'None', 'None']\n",
    "    elif product == 'Cloud Particle Size':\n",
    "        values = ['ABI-L2-CPSF', 'ABI-L2-CPSC', 'ABI-L2-CPSM', 'ABI-L2-CPSM']\n",
    "    elif product == 'Cloud Top Height':\n",
    "        values = ['ABI-L2-ACHAF', 'ABI-L2-ACHAC', 'ABI-L2-ACHAM', 'ABI-L2-ACHAM']\n",
    "    elif product == 'Cloud Top Phase':\n",
    "        values = ['ABI-L2-ACTPF', 'ABI-L2-ACTPC', 'ABI-L2-ACTPM', 'ABI-L2-ACTPM']\n",
    "    elif product == 'Cloud Top Pressure':\n",
    "        values = ['ABI-L2-CTPF', 'ABI-L2-CTPC', 'None', 'None']\n",
    "    elif product == 'Cloud Top Temperature':\n",
    "        values = ['ABI-L2-ACHTF', 'None', 'ABI-L2-ACHTM', 'ABI-L2-ACHTM']\n",
    "    elif product == 'Derived Motion Winds':\n",
    "        values = ['ABI-L2-DMWF', 'ABI-L2-DMWC', 'ABI-L2-DMWM', 'ABI-L2-DMWM']\n",
    "    elif product == 'Derived Stability Indices':\n",
    "        values = ['ABI-L2-DSIF', 'ABI-L2-DSIC', 'ABI-L2-DSIM', 'ABI-L2-DSIM']\n",
    "    elif product == 'Downward Shortwave Radiation':\n",
    "        values = ['ABI-L2-DSRF', 'ABI-L2-DSRC', 'ABI-L2-DSRM', 'ABI-L2-DSRM']\n",
    "    elif product == 'Fire Hotspot Characterization':\n",
    "        values = ['ABI-L2-FDCF', 'ABI-L2-FDCC', 'ABI-L2-FDCM', 'ABI-L2-FDCM']\n",
    "    elif product == 'Land Surface Temperature':\n",
    "        values = ['ABI-L2-LSTF', 'ABI-L2-LSTC', 'ABI-L2-LSTM', 'ABI-L2-LSTM']\n",
    "    elif product == 'Legacy Vertical Moisture Profile':\n",
    "        values = ['ABI-L2-LVMPF', 'ABI-L2-LVMPC', 'ABI-L2-LVMPM', 'ABI-L2-LVMPM']\n",
    "    elif product == 'Legacy Vertical Temperature Profile':\n",
    "        values = ['ABI-L2-LVTPF', 'ABI-L2-LVTPC', 'ABI-L2-LVTPM', 'ABI-L2-LVTPM']\n",
    "    elif product == 'Rainfall Rate/QPE':\n",
    "        values = ['ABI-L2-RRQPEF', 'None', 'None', 'None']\n",
    "    elif product == 'Reflected Shortwave Radiation':\n",
    "        values = ['ABI-L2-RSRF', 'ABI-L2-RSRC', 'None', 'None']\n",
    "    elif product == 'Sea Surface Temperature':\n",
    "        values = ['ABI-L2-SSTF', 'None', 'None', 'None']\n",
    "    elif product == 'Total Precipitable Water':\n",
    "        values = ['ABI-L2-TPWF', 'ABI-L2-TPWC', 'ABI-L2-TPWM', 'ABI-L2-TPWM']\n",
    "    elif product == 'Volcanic Ash':\n",
    "        values = ['ABI-L2-VAAF', 'None', 'None', 'None']\n",
    "\n",
    "    # Use list comprehension to combine \"values\" and \"keys\" lists\n",
    "    abbreviation_dictionary = {keys[i]: values[i] for i in range(len(keys))}\n",
    "    \n",
    "    # Get product abbreviation for specified product and scan sector\n",
    "    product_abbreviation = abbreviation_dictionary.get(sector)\n",
    "    \n",
    "    return product_abbreviation"
   ]
  },
  {
   "cell_type": "code",
   "execution_count": 5,
   "metadata": {},
   "outputs": [],
   "source": [
    "# Create list containing ABI L2 data file names for user-specified satellite/product and date/time period\n",
    "# \"year\", \"month\", \"day, \"start_hour\", \"start_min\", \"end_hour\", \"end_min\", \"satellite\", \"sector\", 'product': parameter \n",
    "# variables from widget menus, set in main function\n",
    "\n",
    "def aws_abi_list(year, month, day, start_hour, start_min, end_hour, end_min, satellite, sector, product):\n",
    "    \n",
    "    # Access AWS S3 using anonymous credentials\n",
    "    aws = s3fs.S3FileSystem(anon=True)\n",
    "    \n",
    "    # Get all ABI L2 data file names encompassing user-specified satellite/product, date, and start/end hours\n",
    "    julian_day = find_julian(year, month, day)\n",
    "    product_abbreviation = get_product_abbreviation(sector, product)\n",
    "    hour_range = range(int(start_hour), int(end_hour) + 1)\n",
    "    all_hours_list = []\n",
    "    for hour in hour_range:\n",
    "        # Query AWS ABI archive for ABI L2 file names\n",
    "        # \"'{number:02d}'.format(number=hour)\" adds leading zero to hours < 10 in hour_range array\n",
    "        # \"refresh=True\" argument clears cache so NRT files on AWS ABI archive are retrievable\n",
    "        hour_files = aws.ls('noaa-goes' + str(satellite) + '/' + product_abbreviation + '/' + str(year) + '/' + julian_day + '/' + '{number:02d}'.format(number=hour) + '/', refresh=True)\n",
    "        all_hours_list.extend(hour_files)\n",
    "    \n",
    "    # Extract ABI L2 data file names for exact period set by user-specified observation start/end times\n",
    "    # Use reverse indexing to count from end of ABI file names\n",
    "    data = []\n",
    "    for file in all_hours_list:\n",
    "        # For Meso products, extract only file names for user-specified view sector (e.g., \"Meso 1\" or \"Meso 2\")\n",
    "        if sector == 'Meso 1' or sector == 'Meso 2':\n",
    "            # Extract file names for L2 products that have files for individual ABI bands\n",
    "            if product == 'Cloud & Moisture Imagery' or product == 'Derived Motion Winds':\n",
    "                if file[-42:-38] >= (start_hour + start_min) and file[-42:-38] <= (end_hour + end_min) and file[-62] == sector[-1]:\n",
    "                    data.append(file)\n",
    "                else:\n",
    "                    continue\n",
    "            else:\n",
    "                # Extract file names for remaining L2 products\n",
    "                if file[-42:-38] >= (start_hour + start_min) and file[-42:-38] <= (end_hour + end_min) and file[-59] == sector[-1]:\n",
    "                    data.append(file)\n",
    "                else:\n",
    "                    continue\n",
    "        else:\n",
    "            # Extract file names for Full Disk and CONUS products\n",
    "            if file[-42:-38] >= (start_hour + start_min) and file[-42:-38] <= (end_hour + end_min):\n",
    "                data.append(file)\n",
    "            else:\n",
    "                continue\n",
    "\n",
    "    return data"
   ]
  },
  {
   "cell_type": "code",
   "execution_count": 6,
   "metadata": {},
   "outputs": [],
   "source": [
    "# Print available ABI L2 data files that match user specifications, with option to download files\n",
    "# \"save_path\": parameter variable assigned in main function\n",
    "\n",
    "def get_abi_files(year, month, day, start_hour, start_min, end_hour, end_min, satellite, sector, product, save_path):\n",
    "\n",
    "    # Query AWS ABI archive and print names/sizes of available L2 files\n",
    "    data = aws_abi_list(year, month, day, start_hour, start_min, end_hour, end_min, satellite, sector, product)\n",
    "    \n",
    "    if len(data) > 0:\n",
    "        # Access AWS using anonymous credentials\n",
    "        aws = s3fs.S3FileSystem(anon=True)\n",
    "        \n",
    "        # Print list of available data files\n",
    "        print('Available data files (approximate file size):')\n",
    "        for file in data:\n",
    "            file_size = aws.size(file)\n",
    "            # sep='' removes extra spaces b/w print elements\n",
    "            print(file.split('/')[-1], ' (', np.format_float_positional(np.float16(file_size/1.0E6), unique=False, precision=1), ' MB)', sep='')\n",
    "        \n",
    "        # Print directory where files will be saved\n",
    "        print('\\nData files will be saved to: ' + str(save_path))\n",
    "        \n",
    "        # Ask user if they want to download the available data files\n",
    "        # If yes, download files to specified directory\n",
    "        download_question = 'Would you like to download the ' + str(len(data)) + ' files?\\nType \"yes\" or \"no\" and hit \"Enter\"\\n'\n",
    "        download_files = input(download_question)\n",
    "        if download_files in ['yes', 'YES', 'Yes', 'y', 'Y']:\n",
    "            \n",
    "            # Display progress bar using tqdm library\n",
    "            # Flush buffer if Python version < v3.9 to avoid glitch in tqdm library\n",
    "            if parse(sys.version.split(' ')[0]) < parse('3.9'):\n",
    "                sys.stdout.flush()\n",
    "            else:\n",
    "                pass\n",
    "            for name in tqdm(data, unit='files', bar_format=\"{desc}Downloading:{percentage:3.0f}%|{bar}|{n_fmt}/{total_fmt} [{elapsed}<{remaining}]\"):\n",
    "                # Set save_path + file_name as pathlib.Path object and convert to string (for AWS)\n",
    "                full_path = str(save_path / name.split('/')[-1])\n",
    "                # Download file from AWS archive\n",
    "                aws.get(name, full_path)\n",
    "            print('\\nDownload complete!')\n",
    "        else:\n",
    "            print('Files are not being downloaded.')\n",
    "    else:\n",
    "        print('No files retrieved. Check settings and try again.')"
   ]
  },
  {
   "cell_type": "code",
   "execution_count": 7,
   "metadata": {},
   "outputs": [
    {
     "name": "stdout",
     "output_type": "stream",
     "text": [
      "Available data files (approximate file size):\n",
      "OR_ABI-L2-DSIF-M6_G16_s20220011800205_e20220011809513_c20220011811583.nc (4.2 MB)\n",
      "\n",
      "Data files will be saved to: /home/ebezerra/atmoseer/notebooks\n"
     ]
    },
    {
     "name": "stderr",
     "output_type": "stream",
     "text": [
      "Downloading:100%|██████████|1/1 [00:03<00:00]"
     ]
    },
    {
     "name": "stdout",
     "output_type": "stream",
     "text": [
      "\n",
      "Download complete!\n"
     ]
    },
    {
     "name": "stderr",
     "output_type": "stream",
     "text": [
      "\n"
     ]
    }
   ],
   "source": [
    "# Execute search of AWS to find ABI L2 data files, with option to download files\n",
    "# Get values from widget menus (AWS search parameters) using \".value\"\n",
    "\n",
    "# Main function\n",
    "if __name__ == \"__main__\":\n",
    "    \n",
    "    # Set directory to save downloaded ABI files (as pathlib.Path object)\n",
    "    # Use current working directory for simplicity\n",
    "    save_path = Path.cwd()\n",
    " \n",
    "    # Notify user if selected product is not generated for selected scan sector\n",
    "    product_abbreviation = get_product_abbreviation(sector.value, product.value)\n",
    "    if product_abbreviation == 'None':\n",
    "        print('The selected product is not generated for the selected view sector. Try again.')\n",
    "    else:\n",
    "        # List/download available ABI L2 data files\n",
    "        get_abi_files(year.value, month.value, day.value, shour.value, smin.value, ehour.value, emin.value, satellite.value, \n",
    "                  sector.value, product.value, save_path)"
   ]
  }
 ],
 "metadata": {
  "kernelspec": {
   "display_name": "atmoseer",
   "language": "python",
   "name": "python3"
  },
  "language_info": {
   "codemirror_mode": {
    "name": "ipython",
    "version": 3
   },
   "file_extension": ".py",
   "mimetype": "text/x-python",
   "name": "python",
   "nbconvert_exporter": "python",
   "pygments_lexer": "ipython3",
   "version": "3.10.12"
  }
 },
 "nbformat": 4,
 "nbformat_minor": 2
}
