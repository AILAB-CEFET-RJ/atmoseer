{
 "cells": [
  {
   "cell_type": "markdown",
   "metadata": {},
   "source": [
    "source: https://www.star.nesdis.noaa.gov/atmospheric-composition-training/python_abi_lat_lon.php"
   ]
  },
  {
   "cell_type": "code",
   "execution_count": 4,
   "metadata": {},
   "outputs": [],
   "source": [
    "# Calculate latitude and longitude from GOES ABI fixed grid projection data\n",
    "# GOES ABI fixed grid projection is a map projection relative to the GOES satellite\n",
    "# Units: latitude in °N (°S < 0), longitude in °E (°W < 0)\n",
    "# See GOES-R Product User Guide (PUG) Volume 5 (L2 products) Section 4.2.8 for details & example of calculations\n",
    "# \"file_id\" is an ABI L1b or L2 .nc file opened using the netCDF4 library\n",
    "\n",
    "def calculate_degrees(file_id):\n",
    "    \n",
    "    # Read in GOES ABI fixed grid projection variables and constants\n",
    "    x_coordinate_1d = file_id.variables['x'][:]  # E/W scanning angle in radians\n",
    "    y_coordinate_1d = file_id.variables['y'][:]  # N/S elevation angle in radians\n",
    "    projection_info = file_id.variables['goes_imager_projection']\n",
    "    lon_origin = projection_info.longitude_of_projection_origin\n",
    "    H = projection_info.perspective_point_height+projection_info.semi_major_axis\n",
    "    r_eq = projection_info.semi_major_axis\n",
    "    r_pol = projection_info.semi_minor_axis\n",
    "    \n",
    "    # Create 2D coordinate matrices from 1D coordinate vectors\n",
    "    x_coordinate_2d, y_coordinate_2d = np.meshgrid(x_coordinate_1d, y_coordinate_1d)\n",
    "    \n",
    "    # Equations to calculate latitude and longitude\n",
    "    lambda_0 = (lon_origin*np.pi)/180.0  \n",
    "    a_var = np.power(np.sin(x_coordinate_2d),2.0) + (np.power(np.cos(x_coordinate_2d),2.0)*(np.power(np.cos(y_coordinate_2d),2.0)+(((r_eq*r_eq)/(r_pol*r_pol))*np.power(np.sin(y_coordinate_2d),2.0))))\n",
    "    b_var = -2.0*H*np.cos(x_coordinate_2d)*np.cos(y_coordinate_2d)\n",
    "    c_var = (H**2.0)-(r_eq**2.0)\n",
    "    r_s = (-1.0*b_var - np.sqrt((b_var**2)-(4.0*a_var*c_var)))/(2.0*a_var)\n",
    "    s_x = r_s*np.cos(x_coordinate_2d)*np.cos(y_coordinate_2d)\n",
    "    s_y = - r_s*np.sin(x_coordinate_2d)\n",
    "    s_z = r_s*np.cos(x_coordinate_2d)*np.sin(y_coordinate_2d)\n",
    "    \n",
    "    # Ignore numpy errors for sqrt of negative number; occurs for GOES-16 ABI CONUS sector data\n",
    "    np.seterr(all='ignore')\n",
    "    \n",
    "    abi_lat = (180.0/np.pi)*(np.arctan(((r_eq*r_eq)/(r_pol*r_pol))*((s_z/np.sqrt(((H-s_x)*(H-s_x))+(s_y*s_y))))))\n",
    "    abi_lon = (lambda_0 - np.arctan(s_y/(H-s_x)))*(180.0/np.pi)\n",
    "    \n",
    "    return abi_lat, abi_lon"
   ]
  },
  {
   "cell_type": "code",
   "execution_count": 5,
   "metadata": {},
   "outputs": [
    {
     "name": "stdout",
     "output_type": "stream",
     "text": [
      "[[-- -- -- ... -- -- --]\n",
      " [-- -- -- ... -- -- --]\n",
      " [-- -- -- ... -- -- --]\n",
      " ...\n",
      " [-- -- -- ... -- -- --]\n",
      " [-- -- -- ... -- -- --]\n",
      " [-- -- -- ... -- -- --]]\n",
      "The maximum latitude value is 80.99853 degrees\n",
      "The minimum latitude value is -80.99853 degrees\n",
      "[[-- -- -- ... -- -- --]\n",
      " [-- -- -- ... -- -- --]\n",
      " [-- -- -- ... -- -- --]\n",
      " ...\n",
      " [-- -- -- ... -- -- --]\n",
      " [-- -- -- ... -- -- --]\n",
      " [-- -- -- ... -- -- --]]\n",
      "The maximum longitude value is 6.2708173 degrees\n",
      "The minimum longitude value is -156.27083 degrees\n"
     ]
    },
    {
     "name": "stderr",
     "output_type": "stream",
     "text": [
      "/tmp/ipykernel_6065/3775307718.py:26: RuntimeWarning: invalid value encountered in sqrt\n",
      "  r_s = (-1.0*b_var - np.sqrt((b_var**2)-(4.0*a_var*c_var)))/(2.0*a_var)\n"
     ]
    }
   ],
   "source": [
    "# Import Python packages\n",
    "\n",
    "# Library to work with netCDF files\n",
    "from netCDF4 import Dataset\n",
    "\n",
    "# Library to perform array operations\n",
    "import numpy as np \n",
    "\n",
    "# Module to set filesystem paths appropriate for user's operating system\n",
    "from pathlib import Path\n",
    "# Open an ABI netCDF4 data file\n",
    "\n",
    "# Enter directory and file name for ABI data file\n",
    "directory_path = Path.cwd()  # Current working directory\n",
    "file_name = '../data/goes16/temp/OR_ABI-L2-DSIF-M6_G16_s20220011800205_e20220011809513_c20220011811583.nc'  \n",
    "file_path = directory_path / file_name\n",
    "\n",
    "# Open the file using the netCDF4 library\n",
    "file_id = Dataset(file_path)\n",
    "# Print arrays of calculated latitude and longitude\n",
    "\n",
    "# Call function to calculate latitude and longitude from GOES ABI fixed grid projection data\n",
    "abi_lat, abi_lon = calculate_degrees(file_id)\n",
    "\n",
    "# Print latitude array\n",
    "print(abi_lat)\n",
    "\n",
    "# Print max and min of latitude data to check data range\n",
    "print('The maximum latitude value is', np.max(abi_lat), 'degrees')\n",
    "print('The minimum latitude value is', np.min(abi_lat), 'degrees')\n",
    "\n",
    "# Print longitude array\n",
    "print(abi_lon)\n",
    "\n",
    "# Print max and min of longitude data to check data range\n",
    "print('The maximum longitude value is', np.max(abi_lon), 'degrees')\n",
    "print('The minimum longitude value is', np.min(abi_lon), 'degrees')"
   ]
  }
 ],
 "metadata": {
  "kernelspec": {
   "display_name": "atmoseer",
   "language": "python",
   "name": "python3"
  },
  "language_info": {
   "codemirror_mode": {
    "name": "ipython",
    "version": 3
   },
   "file_extension": ".py",
   "mimetype": "text/x-python",
   "name": "python",
   "nbconvert_exporter": "python",
   "pygments_lexer": "ipython3",
   "version": "3.10.12"
  }
 },
 "nbformat": 4,
 "nbformat_minor": 2
}
