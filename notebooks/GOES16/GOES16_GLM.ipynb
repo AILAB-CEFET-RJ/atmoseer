{
 "cells": [
  {
   "cell_type": "code",
   "execution_count": 5,
   "metadata": {
    "colab": {
     "base_uri": "https://localhost:8080/"
    },
    "executionInfo": {
     "elapsed": 4897,
     "status": "ok",
     "timestamp": 1687642385810,
     "user": {
      "displayName": "allan jose",
      "userId": "15792183204536819831"
     },
     "user_tz": 180
    },
    "id": "obCShOodaMFY",
    "outputId": "5a61791f-a759-4b5f-bb8b-bbaea3a23085"
   },
   "outputs": [
    {
     "name": "stdout",
     "output_type": "stream",
     "text": [
      "mkdir: cannot create directory ‘data’: File exists\n"
     ]
    },
    {
     "name": "stdout",
     "output_type": "stream",
     "text": [
      "mkdir: cannot create directory ‘data/meshes’: File exists\n",
      "--2024-08-18 14:23:19--  https://docs.google.com/uc?export=download&id=1V4vOD9TevqZoZCtD70Yz7y62zunGoAU-\n",
      "Resolving docs.google.com (docs.google.com)... 142.251.132.14, 2800:3f0:4001:833::200e\n",
      "Connecting to docs.google.com (docs.google.com)|142.251.132.14|:443... connected.\n",
      "HTTP request sent, awaiting response... 303 See Other\n",
      "Location: https://drive.usercontent.google.com/download?id=1V4vOD9TevqZoZCtD70Yz7y62zunGoAU-&export=download [following]\n",
      "--2024-08-18 14:23:19--  https://drive.usercontent.google.com/download?id=1V4vOD9TevqZoZCtD70Yz7y62zunGoAU-&export=download\n",
      "Resolving drive.usercontent.google.com (drive.usercontent.google.com)... 142.251.132.1, 2800:3f0:4001:833::2001\n",
      "Connecting to drive.usercontent.google.com (drive.usercontent.google.com)|142.251.132.1|:443... connected.\n",
      "HTTP request sent, awaiting response... 200 OK\n",
      "Length: 3423788 (3.3M) [application/octet-stream]\n",
      "Saving to: ‘data/meshes/meshes.tar.xz’\n",
      "\n",
      "data/meshes/meshes. 100%[===================>]   3.26M  13.9MB/s    in 0.2s    \n",
      "\n",
      "2024-08-18 14:23:30 (13.9 MB/s) - ‘data/meshes/meshes.tar.xz’ saved [3423788/3423788]\n",
      "\n",
      "RJ_Mesorregioes_2020/\n",
      "RJ_Mesorregioes_2020/RJ_Mesorregioes_2020.cpg\n",
      "RJ_Mesorregioes_2020/RJ_Mesorregioes_2020.dbf\n",
      "RJ_Mesorregioes_2020/RJ_Mesorregioes_2020.prj\n",
      "RJ_Mesorregioes_2020/RJ_Mesorregioes_2020.shp\n",
      "RJ_Mesorregioes_2020/RJ_Mesorregioes_2020.shx\n",
      "RJ_Microrregioes_2020/\n",
      "RJ_Microrregioes_2020/RJ_Microrregioes_2020.cpg\n",
      "RJ_Microrregioes_2020/RJ_Microrregioes_2020.dbf\n",
      "RJ_Microrregioes_2020/RJ_Microrregioes_2020.prj\n",
      "RJ_Microrregioes_2020/RJ_Microrregioes_2020.shp\n",
      "RJ_Microrregioes_2020/RJ_Microrregioes_2020.shx\n",
      "RJ_Municipios_2020/\n",
      "RJ_Municipios_2020/RJ_Municipios_2020.cpg\n",
      "RJ_Municipios_2020/RJ_Municipios_2020.dbf\n",
      "RJ_Municipios_2020/RJ_Municipios_2020.prj\n",
      "RJ_Municipios_2020/RJ_Municipios_2020.shp\n",
      "RJ_Municipios_2020/RJ_Municipios_2020.shx\n",
      "RJ_RG_Imediatas_2020/\n",
      "RJ_RG_Imediatas_2020/RJ_RG_Imediatas_2020.cpg\n",
      "RJ_RG_Imediatas_2020/RJ_RG_Imediatas_2020.dbf\n",
      "RJ_RG_Imediatas_2020/RJ_RG_Imediatas_2020.prj\n",
      "RJ_RG_Imediatas_2020/RJ_RG_Imediatas_2020.shp\n",
      "RJ_RG_Imediatas_2020/RJ_RG_Imediatas_2020.shx\n",
      "RJ_RG_Intermediarias_2020/\n",
      "RJ_RG_Intermediarias_2020/RJ_RG_Intermediarias_2020.cpg\n",
      "RJ_RG_Intermediarias_2020/RJ_RG_Intermediarias_2020.dbf\n",
      "RJ_RG_Intermediarias_2020/RJ_RG_Intermediarias_2020.prj\n",
      "RJ_RG_Intermediarias_2020/RJ_RG_Intermediarias_2020.shp\n",
      "RJ_RG_Intermediarias_2020/RJ_RG_Intermediarias_2020.shx\n",
      "RJ_UF_2020/\n",
      "RJ_UF_2020/RJ_UF_2020.cpg\n",
      "RJ_UF_2020/RJ_UF_2020.dbf\n",
      "RJ_UF_2020/RJ_UF_2020.prj\n",
      "RJ_UF_2020/RJ_UF_2020.shp\n",
      "RJ_UF_2020/RJ_UF_2020.shx\n"
     ]
    }
   ],
   "source": [
    "!mkdir data\n",
    "!mkdir data/meshes\n",
    "!wget --no-check-certificate 'https://docs.google.com/uc?export=download&id=1V4vOD9TevqZoZCtD70Yz7y62zunGoAU-' -O data/meshes/meshes.tar.xz\n",
    "!tar -xvf data/meshes/meshes.tar.xz -C data/meshes\n",
    "!rm data/meshes/meshes.tar.xz"
   ]
  },
  {
   "cell_type": "code",
   "execution_count": 6,
   "metadata": {
    "colab": {
     "base_uri": "https://localhost:8080/"
    },
    "executionInfo": {
     "elapsed": 9781,
     "status": "ok",
     "timestamp": 1687642411479,
     "user": {
      "displayName": "allan jose",
      "userId": "15792183204536819831"
     },
     "user_tz": 180
    },
    "id": "ygWPtPLVoUit",
    "outputId": "603d04ea-7090-4e37-e67c-d747aa2ddf02"
   },
   "outputs": [
    {
     "name": "stdout",
     "output_type": "stream",
     "text": [
      "Requirement already satisfied: geopandas in /home/ebezerra/anaconda3/envs/atmoseer/lib/python3.10/site-packages (0.14.4)\n",
      "Requirement already satisfied: fiona>=1.8.21 in /home/ebezerra/anaconda3/envs/atmoseer/lib/python3.10/site-packages (from geopandas) (1.9.6)\n",
      "Requirement already satisfied: shapely>=1.8.0 in /home/ebezerra/anaconda3/envs/atmoseer/lib/python3.10/site-packages (from geopandas) (2.0.1)\n",
      "Requirement already satisfied: numpy>=1.22 in /home/ebezerra/anaconda3/envs/atmoseer/lib/python3.10/site-packages (from geopandas) (1.26.0)\n",
      "Requirement already satisfied: packaging in /home/ebezerra/anaconda3/envs/atmoseer/lib/python3.10/site-packages (from geopandas) (23.0)\n",
      "Requirement already satisfied: pandas>=1.4.0 in /home/ebezerra/anaconda3/envs/atmoseer/lib/python3.10/site-packages (from geopandas) (1.4.3)\n",
      "Requirement already satisfied: pyproj>=3.3.0 in /home/ebezerra/anaconda3/envs/atmoseer/lib/python3.10/site-packages (from geopandas) (3.4.1)\n",
      "Requirement already satisfied: certifi in /home/ebezerra/anaconda3/envs/atmoseer/lib/python3.10/site-packages (from fiona>=1.8.21->geopandas) (2024.2.2)\n",
      "Requirement already satisfied: click-plugins>=1.0 in /home/ebezerra/anaconda3/envs/atmoseer/lib/python3.10/site-packages (from fiona>=1.8.21->geopandas) (1.1.1)\n",
      "Requirement already satisfied: six in /home/ebezerra/anaconda3/envs/atmoseer/lib/python3.10/site-packages (from fiona>=1.8.21->geopandas) (1.16.0)\n",
      "Requirement already satisfied: cligj>=0.5 in /home/ebezerra/anaconda3/envs/atmoseer/lib/python3.10/site-packages (from fiona>=1.8.21->geopandas) (0.7.2)\n",
      "Requirement already satisfied: attrs>=19.2.0 in /home/ebezerra/anaconda3/envs/atmoseer/lib/python3.10/site-packages (from fiona>=1.8.21->geopandas) (22.2.0)\n",
      "Requirement already satisfied: click~=8.0 in /home/ebezerra/anaconda3/envs/atmoseer/lib/python3.10/site-packages (from fiona>=1.8.21->geopandas) (8.1.3)\n",
      "Requirement already satisfied: pytz>=2020.1 in /home/ebezerra/anaconda3/envs/atmoseer/lib/python3.10/site-packages (from pandas>=1.4.0->geopandas) (2022.2.1)\n",
      "Requirement already satisfied: python-dateutil>=2.8.1 in /home/ebezerra/anaconda3/envs/atmoseer/lib/python3.10/site-packages (from pandas>=1.4.0->geopandas) (2.8.2)\n",
      "Requirement already satisfied: folium in /home/ebezerra/anaconda3/envs/atmoseer/lib/python3.10/site-packages (0.17.0)\n",
      "Requirement already satisfied: jinja2>=2.9 in /home/ebezerra/anaconda3/envs/atmoseer/lib/python3.10/site-packages (from folium) (3.1.2)\n",
      "Requirement already satisfied: branca>=0.6.0 in /home/ebezerra/anaconda3/envs/atmoseer/lib/python3.10/site-packages (from folium) (0.7.2)\n",
      "Requirement already satisfied: numpy in /home/ebezerra/anaconda3/envs/atmoseer/lib/python3.10/site-packages (from folium) (1.26.0)\n",
      "Requirement already satisfied: requests in /home/ebezerra/anaconda3/envs/atmoseer/lib/python3.10/site-packages (from folium) (2.28.1)\n",
      "Requirement already satisfied: xyzservices in /home/ebezerra/anaconda3/envs/atmoseer/lib/python3.10/site-packages (from folium) (2024.6.0)\n",
      "Requirement already satisfied: MarkupSafe>=2.0 in /home/ebezerra/anaconda3/envs/atmoseer/lib/python3.10/site-packages (from jinja2>=2.9->folium) (2.1.1)\n",
      "Requirement already satisfied: urllib3<1.27,>=1.21.1 in /home/ebezerra/anaconda3/envs/atmoseer/lib/python3.10/site-packages (from requests->folium) (1.26.17)\n",
      "Requirement already satisfied: certifi>=2017.4.17 in /home/ebezerra/anaconda3/envs/atmoseer/lib/python3.10/site-packages (from requests->folium) (2024.2.2)\n",
      "Requirement already satisfied: charset-normalizer<3,>=2 in /home/ebezerra/anaconda3/envs/atmoseer/lib/python3.10/site-packages (from requests->folium) (2.1.1)\n",
      "Requirement already satisfied: idna<4,>=2.5 in /home/ebezerra/anaconda3/envs/atmoseer/lib/python3.10/site-packages (from requests->folium) (3.4)\n"
     ]
    }
   ],
   "source": [
    "#!pip install numpy\n",
    "#bibliotecas necessárias para rodar os códigos\n",
    "!pip install geopandas\n",
    "!pip install folium\n",
    "\n",
    "import numpy as np\n",
    "import pandas as pd\n",
    "from shapely.geometry import Polygon, Point\n",
    "import geopandas as gpd\n",
    "import folium\n",
    "import matplotlib.pyplot as plt\n",
    "\n"
   ]
  },
  {
   "cell_type": "code",
   "execution_count": 7,
   "metadata": {
    "colab": {
     "base_uri": "https://localhost:8080/",
     "height": 224
    },
    "executionInfo": {
     "elapsed": 1352,
     "status": "ok",
     "timestamp": 1687642412825,
     "user": {
      "displayName": "allan jose",
      "userId": "15792183204536819831"
     },
     "user_tz": 180
    },
    "id": "k11jt3uyaRZc",
    "outputId": "bbd6547f-5631-44e9-d31c-9e857310d95d"
   },
   "outputs": [
    {
     "name": "stdout",
     "output_type": "stream",
     "text": [
      "(92, 5)\n"
     ]
    },
    {
     "data": {
      "text/html": [
       "<div>\n",
       "<style scoped>\n",
       "    .dataframe tbody tr th:only-of-type {\n",
       "        vertical-align: middle;\n",
       "    }\n",
       "\n",
       "    .dataframe tbody tr th {\n",
       "        vertical-align: top;\n",
       "    }\n",
       "\n",
       "    .dataframe thead th {\n",
       "        text-align: right;\n",
       "    }\n",
       "</style>\n",
       "<table border=\"1\" class=\"dataframe\">\n",
       "  <thead>\n",
       "    <tr style=\"text-align: right;\">\n",
       "      <th></th>\n",
       "      <th>CD_MUN</th>\n",
       "      <th>NM_MUN</th>\n",
       "      <th>SIGLA_UF</th>\n",
       "      <th>AREA_KM2</th>\n",
       "      <th>geometry</th>\n",
       "    </tr>\n",
       "  </thead>\n",
       "  <tbody>\n",
       "    <tr>\n",
       "      <th>0</th>\n",
       "      <td>3300100</td>\n",
       "      <td>Angra dos Reis</td>\n",
       "      <td>RJ</td>\n",
       "      <td>813.420</td>\n",
       "      <td>MULTIPOLYGON (((-44.15109 -23.21602, -44.15076...</td>\n",
       "    </tr>\n",
       "    <tr>\n",
       "      <th>1</th>\n",
       "      <td>3300159</td>\n",
       "      <td>Aperibé</td>\n",
       "      <td>RJ</td>\n",
       "      <td>94.542</td>\n",
       "      <td>POLYGON ((-42.12536 -21.60155, -42.12535 -21.6...</td>\n",
       "    </tr>\n",
       "    <tr>\n",
       "      <th>2</th>\n",
       "      <td>3300209</td>\n",
       "      <td>Araruama</td>\n",
       "      <td>RJ</td>\n",
       "      <td>638.276</td>\n",
       "      <td>POLYGON ((-42.18387 -22.55144, -42.18349 -22.5...</td>\n",
       "    </tr>\n",
       "    <tr>\n",
       "      <th>3</th>\n",
       "      <td>3300225</td>\n",
       "      <td>Areal</td>\n",
       "      <td>RJ</td>\n",
       "      <td>110.724</td>\n",
       "      <td>POLYGON ((-43.03716 -22.16429, -43.03672 -22.1...</td>\n",
       "    </tr>\n",
       "    <tr>\n",
       "      <th>4</th>\n",
       "      <td>3300233</td>\n",
       "      <td>Armação dos Búzios</td>\n",
       "      <td>RJ</td>\n",
       "      <td>70.977</td>\n",
       "      <td>MULTIPOLYGON (((-41.91855 -22.81574, -41.91836...</td>\n",
       "    </tr>\n",
       "  </tbody>\n",
       "</table>\n",
       "</div>"
      ],
      "text/plain": [
       "    CD_MUN              NM_MUN SIGLA_UF  AREA_KM2  \\\n",
       "0  3300100      Angra dos Reis       RJ   813.420   \n",
       "1  3300159             Aperibé       RJ    94.542   \n",
       "2  3300209            Araruama       RJ   638.276   \n",
       "3  3300225               Areal       RJ   110.724   \n",
       "4  3300233  Armação dos Búzios       RJ    70.977   \n",
       "\n",
       "                                            geometry  \n",
       "0  MULTIPOLYGON (((-44.15109 -23.21602, -44.15076...  \n",
       "1  POLYGON ((-42.12536 -21.60155, -42.12535 -21.6...  \n",
       "2  POLYGON ((-42.18387 -22.55144, -42.18349 -22.5...  \n",
       "3  POLYGON ((-43.03716 -22.16429, -43.03672 -22.1...  \n",
       "4  MULTIPOLYGON (((-41.91855 -22.81574, -41.91836...  "
      ]
     },
     "execution_count": 7,
     "metadata": {},
     "output_type": "execute_result"
    }
   ],
   "source": [
    "#rj_state = gpd.read_file('/content/data/meshes/RJ_UF_2020/RJ_UF_2020.shp')\n",
    "#print(rj_state.shape)\n",
    "rj_state = gpd.read_file('./data/meshes/RJ_Municipios_2020/RJ_Municipios_2020.shp')\n",
    "print(rj_state.shape)\n",
    "rj_state.head()"
   ]
  },
  {
   "cell_type": "code",
   "execution_count": 8,
   "metadata": {
    "colab": {
     "base_uri": "https://localhost:8080/",
     "height": 81
    },
    "executionInfo": {
     "elapsed": 1175,
     "status": "ok",
     "timestamp": 1682093854990,
     "user": {
      "displayName": "allan jose",
      "userId": "15792183204536819831"
     },
     "user_tz": 180
    },
    "id": "AV82eBr_aa70",
    "outputId": "01640c48-fbb2-4fb9-ee98-d2292dce42f0"
   },
   "outputs": [
    {
     "data": {
      "text/html": [
       "<div>\n",
       "<style scoped>\n",
       "    .dataframe tbody tr th:only-of-type {\n",
       "        vertical-align: middle;\n",
       "    }\n",
       "\n",
       "    .dataframe tbody tr th {\n",
       "        vertical-align: top;\n",
       "    }\n",
       "\n",
       "    .dataframe thead th {\n",
       "        text-align: right;\n",
       "    }\n",
       "</style>\n",
       "<table border=\"1\" class=\"dataframe\">\n",
       "  <thead>\n",
       "    <tr style=\"text-align: right;\">\n",
       "      <th></th>\n",
       "      <th>CD_MUN</th>\n",
       "      <th>NM_MUN</th>\n",
       "      <th>SIGLA_UF</th>\n",
       "      <th>AREA_KM2</th>\n",
       "      <th>geometry</th>\n",
       "    </tr>\n",
       "  </thead>\n",
       "  <tbody>\n",
       "    <tr>\n",
       "      <th>67</th>\n",
       "      <td>3304557</td>\n",
       "      <td>Rio de Janeiro</td>\n",
       "      <td>RJ</td>\n",
       "      <td>1200.329</td>\n",
       "      <td>MULTIPOLYGON (((-43.56883 -23.08162, -43.56886...</td>\n",
       "    </tr>\n",
       "  </tbody>\n",
       "</table>\n",
       "</div>"
      ],
      "text/plain": [
       "     CD_MUN          NM_MUN SIGLA_UF  AREA_KM2  \\\n",
       "67  3304557  Rio de Janeiro       RJ  1200.329   \n",
       "\n",
       "                                             geometry  \n",
       "67  MULTIPOLYGON (((-43.56883 -23.08162, -43.56886...  "
      ]
     },
     "execution_count": 8,
     "metadata": {},
     "output_type": "execute_result"
    }
   ],
   "source": [
    "import re\n",
    "\n",
    "#rj_city = rj_state[rj_state['NM_UF'].str.contains('rio de janeiro', flags=re.IGNORECASE)]\n",
    "rj_city = rj_state[rj_state['NM_MUN'].str.contains('rio de janeiro', flags=re.IGNORECASE)]\n",
    "rj_city"
   ]
  },
  {
   "cell_type": "code",
   "execution_count": 9,
   "metadata": {
    "colab": {
     "base_uri": "https://localhost:8080/"
    },
    "executionInfo": {
     "elapsed": 493,
     "status": "ok",
     "timestamp": 1682185660487,
     "user": {
      "displayName": "allan jose",
      "userId": "15792183204536819831"
     },
     "user_tz": 180
    },
    "id": "hv4Tcn71aDDY",
    "outputId": "9fbab371-4d8a-4ac7-c639-434607aa00f9"
   },
   "outputs": [
    {
     "data": {
      "text/plain": [
       "<Geographic 2D CRS: EPSG:4674>\n",
       "Name: SIRGAS 2000\n",
       "Axis Info [ellipsoidal]:\n",
       "- Lat[north]: Geodetic latitude (degree)\n",
       "- Lon[east]: Geodetic longitude (degree)\n",
       "Area of Use:\n",
       "- name: Latin America - Central America and South America - onshore and offshore. Brazil - onshore and offshore.\n",
       "- bounds: (-122.19, -59.87, -25.28, 32.72)\n",
       "Datum: Sistema de Referencia Geocentrico para las AmericaS 2000\n",
       "- Ellipsoid: GRS 1980\n",
       "- Prime Meridian: Greenwich"
      ]
     },
     "execution_count": 9,
     "metadata": {},
     "output_type": "execute_result"
    }
   ],
   "source": [
    "rj_city.crs"
   ]
  },
  {
   "cell_type": "code",
   "execution_count": 10,
   "metadata": {
    "colab": {
     "base_uri": "https://localhost:8080/",
     "height": 337
    },
    "executionInfo": {
     "elapsed": 9,
     "status": "ok",
     "timestamp": 1682185662205,
     "user": {
      "displayName": "allan jose",
      "userId": "15792183204536819831"
     },
     "user_tz": 180
    },
    "id": "P6TZnhSdavZ1",
    "outputId": "9f732577-4013-4bf6-e7bc-c0c5f7a8ce4b"
   },
   "outputs": [
    {
     "data": {
      "text/plain": [
       "<Axes: >"
      ]
     },
     "execution_count": 10,
     "metadata": {},
     "output_type": "execute_result"
    },
    {
     "data": {
      "image/png": "[encoded data removed]",
      "text/plain": [
       "<Figure size 640x480 with 1 Axes>"
      ]
     },
     "metadata": {},
     "output_type": "display_data"
    }
   ],
   "source": [
    "rj_city.plot()"
   ]
  },
  {
   "cell_type": "code",
   "execution_count": 11,
   "metadata": {
    "colab": {
     "base_uri": "https://localhost:8080/",
     "height": 466
    },
    "executionInfo": {
     "elapsed": 1806,
     "status": "ok",
     "timestamp": 1682185683834,
     "user": {
      "displayName": "allan jose",
      "userId": "15792183204536819831"
     },
     "user_tz": 180
    },
    "id": "tugHrvOjcdcq",
    "outputId": "bf9be748-c0cb-4107-c817-e9479b128f0b"
   },
   "outputs": [
    {
     "data": {
      "image/png": "[encoded data removed]",
      "text/plain": [
       "<Figure size 1000x800 with 1 Axes>"
      ]
     },
     "metadata": {},
     "output_type": "display_data"
    }
   ],
   "source": [
    "def plot_rj_city():\n",
    "  plt_args = {'color': '#CCCCCC',\n",
    "              'edgecolor': 'white',\n",
    "              'linewidth': 0.5}\n",
    "  ax = rj_city.plot(figsize=(10,8),\n",
    "                    alpha=1,\n",
    "                    **plt_args)\n",
    "  return ax\n",
    "ax = plot_rj_city()\n"
   ]
  },
  {
   "cell_type": "markdown",
   "metadata": {
    "id": "tUotd3HpDBwN"
   },
   "source": [
    "## GOES16 Data on AWS\n",
    "\n",
    "Beginner's guide to GOES-R data - https://www.goes-r.gov/downloads/resources/documents/Beginners_Guide_to_GOES-R_Series_Data.pdf\n",
    "\n",
    "GOES16 filename convention - https://docs.opendata.aws/noaa-goes16/cics-readme.html\n",
    "\n"
   ]
  },
  {
   "cell_type": "code",
   "execution_count": 12,
   "metadata": {
    "colab": {
     "base_uri": "https://localhost:8080/"
    },
    "executionInfo": {
     "elapsed": 5687,
     "status": "ok",
     "timestamp": 1687642078862,
     "user": {
      "displayName": "allan jose",
      "userId": "15792183204536819831"
     },
     "user_tz": 180
    },
    "id": "IXqF1OH5DDHl",
    "outputId": "8af4ee56-4430-4c2b-a2e9-48f2c06e45ed"
   },
   "outputs": [
    {
     "name": "stdout",
     "output_type": "stream",
     "text": [
      "Requirement already satisfied: s3fs in /home/ebezerra/anaconda3/envs/atmoseer/lib/python3.10/site-packages (2023.9.2)\n",
      "Requirement already satisfied: aiobotocore~=2.5.4 in /home/ebezerra/anaconda3/envs/atmoseer/lib/python3.10/site-packages (from s3fs) (2.5.4)\n",
      "Requirement already satisfied: fsspec==2023.9.2 in /home/ebezerra/anaconda3/envs/atmoseer/lib/python3.10/site-packages (from s3fs) (2023.9.2)\n",
      "Requirement already satisfied: aiohttp!=4.0.0a0,!=4.0.0a1 in /home/ebezerra/anaconda3/envs/atmoseer/lib/python3.10/site-packages (from s3fs) (3.8.6)\n",
      "Requirement already satisfied: aioitertools<1.0.0,>=0.5.1 in /home/ebezerra/anaconda3/envs/atmoseer/lib/python3.10/site-packages (from aiobotocore~=2.5.4->s3fs) (0.11.0)\n",
      "Requirement already satisfied: botocore<1.31.18,>=1.31.17 in /home/ebezerra/anaconda3/envs/atmoseer/lib/python3.10/site-packages (from aiobotocore~=2.5.4->s3fs) (1.31.17)\n",
      "Requirement already satisfied: wrapt<2.0.0,>=1.10.10 in /home/ebezerra/anaconda3/envs/atmoseer/lib/python3.10/site-packages (from aiobotocore~=2.5.4->s3fs) (1.15.0)\n",
      "Requirement already satisfied: aiosignal>=1.1.2 in /home/ebezerra/anaconda3/envs/atmoseer/lib/python3.10/site-packages (from aiohttp!=4.0.0a0,!=4.0.0a1->s3fs) (1.3.1)\n",
      "Requirement already satisfied: async-timeout<5.0,>=4.0.0a3 in /home/ebezerra/anaconda3/envs/atmoseer/lib/python3.10/site-packages (from aiohttp!=4.0.0a0,!=4.0.0a1->s3fs) (4.0.3)\n",
      "Requirement already satisfied: attrs>=17.3.0 in /home/ebezerra/anaconda3/envs/atmoseer/lib/python3.10/site-packages (from aiohttp!=4.0.0a0,!=4.0.0a1->s3fs) (22.2.0)\n",
      "Requirement already satisfied: yarl<2.0,>=1.0 in /home/ebezerra/anaconda3/envs/atmoseer/lib/python3.10/site-packages (from aiohttp!=4.0.0a0,!=4.0.0a1->s3fs) (1.9.2)\n",
      "Requirement already satisfied: multidict<7.0,>=4.5 in /home/ebezerra/anaconda3/envs/atmoseer/lib/python3.10/site-packages (from aiohttp!=4.0.0a0,!=4.0.0a1->s3fs) (6.0.4)\n",
      "Requirement already satisfied: charset-normalizer<4.0,>=2.0 in /home/ebezerra/anaconda3/envs/atmoseer/lib/python3.10/site-packages (from aiohttp!=4.0.0a0,!=4.0.0a1->s3fs) (2.1.1)\n",
      "Requirement already satisfied: frozenlist>=1.1.1 in /home/ebezerra/anaconda3/envs/atmoseer/lib/python3.10/site-packages (from aiohttp!=4.0.0a0,!=4.0.0a1->s3fs) (1.4.0)\n",
      "Requirement already satisfied: urllib3<1.27,>=1.25.4 in /home/ebezerra/anaconda3/envs/atmoseer/lib/python3.10/site-packages (from botocore<1.31.18,>=1.31.17->aiobotocore~=2.5.4->s3fs) (1.26.17)\n",
      "Requirement already satisfied: jmespath<2.0.0,>=0.7.1 in /home/ebezerra/anaconda3/envs/atmoseer/lib/python3.10/site-packages (from botocore<1.31.18,>=1.31.17->aiobotocore~=2.5.4->s3fs) (1.0.1)\n",
      "Requirement already satisfied: python-dateutil<3.0.0,>=2.1 in /home/ebezerra/anaconda3/envs/atmoseer/lib/python3.10/site-packages (from botocore<1.31.18,>=1.31.17->aiobotocore~=2.5.4->s3fs) (2.8.2)\n",
      "Requirement already satisfied: idna>=2.0 in /home/ebezerra/anaconda3/envs/atmoseer/lib/python3.10/site-packages (from yarl<2.0,>=1.0->aiohttp!=4.0.0a0,!=4.0.0a1->s3fs) (3.4)\n",
      "Requirement already satisfied: six>=1.5 in /home/ebezerra/anaconda3/envs/atmoseer/lib/python3.10/site-packages (from python-dateutil<3.0.0,>=2.1->botocore<1.31.18,>=1.31.17->aiobotocore~=2.5.4->s3fs) (1.16.0)\n"
     ]
    }
   ],
   "source": [
    "!pip install s3fs"
   ]
  },
  {
   "cell_type": "code",
   "execution_count": 13,
   "metadata": {
    "id": "ILH32QZvEecG"
   },
   "outputs": [],
   "source": [
    "import s3fs\n",
    "import xarray as xr\n",
    "import datetime as dt\n",
    "import argparse"
   ]
  },
  {
   "cell_type": "markdown",
   "metadata": {
    "id": "E9x2G40XQ145"
   },
   "source": [
    "# Nova seção"
   ]
  },
  {
   "cell_type": "code",
   "execution_count": 14,
   "metadata": {
    "id": "viJTgARNFBLk"
   },
   "outputs": [
    {
     "ename": "FileNotFoundError",
     "evalue": "noaa-goes16/ABI-L2-DMWF/2021/0/0",
     "output_type": "error",
     "traceback": [
      "\u001b[0;31m---------------------------------------------------------------------------\u001b[0m",
      "\u001b[0;31mFileNotFoundError\u001b[0m                         Traceback (most recent call last)",
      "Cell \u001b[0;32mIn[14], line 31\u001b[0m\n\u001b[1;32m     29\u001b[0m \u001b[38;5;28;01mfor\u001b[39;00m hours \u001b[38;5;129;01min\u001b[39;00m \u001b[38;5;28mrange\u001b[39m(\u001b[38;5;241m24\u001b[39m):\n\u001b[1;32m     30\u001b[0m     target \u001b[38;5;241m=\u001b[39m \u001b[38;5;124mf\u001b[39m\u001b[38;5;124m'\u001b[39m\u001b[38;5;124mnoaa-goes16/\u001b[39m\u001b[38;5;132;01m{\u001b[39;00mproduct\u001b[38;5;132;01m}\u001b[39;00m\u001b[38;5;124m/\u001b[39m\u001b[38;5;132;01m{\u001b[39;00mdata_year_current\u001b[38;5;132;01m}\u001b[39;00m\u001b[38;5;124m/\u001b[39m\u001b[38;5;132;01m{\u001b[39;00myear_for_days_current\u001b[38;5;132;01m}\u001b[39;00m\u001b[38;5;124m/\u001b[39m\u001b[38;5;132;01m{\u001b[39;00m\u001b[38;5;28mstr\u001b[39m(hours)\u001b[38;5;132;01m}\u001b[39;00m\u001b[38;5;124m'\u001b[39m\n\u001b[0;32m---> 31\u001b[0m     files \u001b[38;5;241m=\u001b[39m np\u001b[38;5;241m.\u001b[39marray(\u001b[43mfs\u001b[49m\u001b[38;5;241;43m.\u001b[39;49m\u001b[43mls\u001b[49m\u001b[43m(\u001b[49m\u001b[43mtarget\u001b[49m\u001b[43m)\u001b[49m)\n\u001b[1;32m     32\u001b[0m     \u001b[38;5;28;01mif\u001b[39;00m(\u001b[38;5;28mlen\u001b[39m(files)\u001b[38;5;241m>\u001b[39m\u001b[38;5;241m0\u001b[39m):\n\u001b[1;32m     33\u001b[0m       \u001b[38;5;28;01mfor\u001b[39;00m i \u001b[38;5;129;01min\u001b[39;00m \u001b[38;5;28mrange\u001b[39m(\u001b[38;5;28mlen\u001b[39m(files)):\n",
      "File \u001b[0;32m~/anaconda3/envs/atmoseer/lib/python3.10/site-packages/fsspec/asyn.py:118\u001b[0m, in \u001b[0;36msync_wrapper.<locals>.wrapper\u001b[0;34m(*args, **kwargs)\u001b[0m\n\u001b[1;32m    115\u001b[0m \u001b[38;5;129m@functools\u001b[39m\u001b[38;5;241m.\u001b[39mwraps(func)\n\u001b[1;32m    116\u001b[0m \u001b[38;5;28;01mdef\u001b[39;00m \u001b[38;5;21mwrapper\u001b[39m(\u001b[38;5;241m*\u001b[39margs, \u001b[38;5;241m*\u001b[39m\u001b[38;5;241m*\u001b[39mkwargs):\n\u001b[1;32m    117\u001b[0m     \u001b[38;5;28mself\u001b[39m \u001b[38;5;241m=\u001b[39m obj \u001b[38;5;129;01mor\u001b[39;00m args[\u001b[38;5;241m0\u001b[39m]\n\u001b[0;32m--> 118\u001b[0m     \u001b[38;5;28;01mreturn\u001b[39;00m \u001b[43msync\u001b[49m\u001b[43m(\u001b[49m\u001b[38;5;28;43mself\u001b[39;49m\u001b[38;5;241;43m.\u001b[39;49m\u001b[43mloop\u001b[49m\u001b[43m,\u001b[49m\u001b[43m \u001b[49m\u001b[43mfunc\u001b[49m\u001b[43m,\u001b[49m\u001b[43m \u001b[49m\u001b[38;5;241;43m*\u001b[39;49m\u001b[43margs\u001b[49m\u001b[43m,\u001b[49m\u001b[43m \u001b[49m\u001b[38;5;241;43m*\u001b[39;49m\u001b[38;5;241;43m*\u001b[39;49m\u001b[43mkwargs\u001b[49m\u001b[43m)\u001b[49m\n",
      "File \u001b[0;32m~/anaconda3/envs/atmoseer/lib/python3.10/site-packages/fsspec/asyn.py:103\u001b[0m, in \u001b[0;36msync\u001b[0;34m(loop, func, timeout, *args, **kwargs)\u001b[0m\n\u001b[1;32m    101\u001b[0m     \u001b[38;5;28;01mraise\u001b[39;00m FSTimeoutError \u001b[38;5;28;01mfrom\u001b[39;00m \u001b[38;5;21;01mreturn_result\u001b[39;00m\n\u001b[1;32m    102\u001b[0m \u001b[38;5;28;01melif\u001b[39;00m \u001b[38;5;28misinstance\u001b[39m(return_result, \u001b[38;5;167;01mBaseException\u001b[39;00m):\n\u001b[0;32m--> 103\u001b[0m     \u001b[38;5;28;01mraise\u001b[39;00m return_result\n\u001b[1;32m    104\u001b[0m \u001b[38;5;28;01melse\u001b[39;00m:\n\u001b[1;32m    105\u001b[0m     \u001b[38;5;28;01mreturn\u001b[39;00m return_result\n",
      "File \u001b[0;32m~/anaconda3/envs/atmoseer/lib/python3.10/site-packages/fsspec/asyn.py:56\u001b[0m, in \u001b[0;36m_runner\u001b[0;34m(event, coro, result, timeout)\u001b[0m\n\u001b[1;32m     54\u001b[0m     coro \u001b[38;5;241m=\u001b[39m asyncio\u001b[38;5;241m.\u001b[39mwait_for(coro, timeout\u001b[38;5;241m=\u001b[39mtimeout)\n\u001b[1;32m     55\u001b[0m \u001b[38;5;28;01mtry\u001b[39;00m:\n\u001b[0;32m---> 56\u001b[0m     result[\u001b[38;5;241m0\u001b[39m] \u001b[38;5;241m=\u001b[39m \u001b[38;5;28;01mawait\u001b[39;00m coro\n\u001b[1;32m     57\u001b[0m \u001b[38;5;28;01mexcept\u001b[39;00m \u001b[38;5;167;01mException\u001b[39;00m \u001b[38;5;28;01mas\u001b[39;00m ex:\n\u001b[1;32m     58\u001b[0m     result[\u001b[38;5;241m0\u001b[39m] \u001b[38;5;241m=\u001b[39m ex\n",
      "File \u001b[0;32m~/anaconda3/envs/atmoseer/lib/python3.10/site-packages/s3fs/core.py:996\u001b[0m, in \u001b[0;36mS3FileSystem._ls\u001b[0;34m(self, path, detail, refresh, versions)\u001b[0m\n\u001b[1;32m    990\u001b[0m     files \u001b[38;5;241m=\u001b[39m [\n\u001b[1;32m    991\u001b[0m         o\n\u001b[1;32m    992\u001b[0m         \u001b[38;5;28;01mfor\u001b[39;00m o \u001b[38;5;129;01min\u001b[39;00m files\n\u001b[1;32m    993\u001b[0m         \u001b[38;5;28;01mif\u001b[39;00m o[\u001b[38;5;124m\"\u001b[39m\u001b[38;5;124mname\u001b[39m\u001b[38;5;124m\"\u001b[39m]\u001b[38;5;241m.\u001b[39mrstrip(\u001b[38;5;124m\"\u001b[39m\u001b[38;5;124m/\u001b[39m\u001b[38;5;124m\"\u001b[39m) \u001b[38;5;241m==\u001b[39m path \u001b[38;5;129;01mand\u001b[39;00m o[\u001b[38;5;124m\"\u001b[39m\u001b[38;5;124mtype\u001b[39m\u001b[38;5;124m\"\u001b[39m] \u001b[38;5;241m!=\u001b[39m \u001b[38;5;124m\"\u001b[39m\u001b[38;5;124mdirectory\u001b[39m\u001b[38;5;124m\"\u001b[39m\n\u001b[1;32m    994\u001b[0m     ]\n\u001b[1;32m    995\u001b[0m     \u001b[38;5;28;01mif\u001b[39;00m \u001b[38;5;129;01mnot\u001b[39;00m files:\n\u001b[0;32m--> 996\u001b[0m         \u001b[38;5;28;01mraise\u001b[39;00m \u001b[38;5;167;01mFileNotFoundError\u001b[39;00m(path)\n\u001b[1;32m    997\u001b[0m \u001b[38;5;28;01mif\u001b[39;00m detail:\n\u001b[1;32m    998\u001b[0m     \u001b[38;5;28;01mreturn\u001b[39;00m files\n",
      "\u001b[0;31mFileNotFoundError\u001b[0m: noaa-goes16/ABI-L2-DMWF/2021/0/0"
     ]
    }
   ],
   "source": [
    "fs = s3fs.S3FileSystem(anon=True)\n",
    "product = \"ABI-L2-DMWF\"\n",
    "products = fs.ls('s3://noaa-goes16/')\n",
    "\n",
    "# extraindo os dados da data de inicio e data de fim usando args do python\n",
    "#parser = argparse.ArgumentParser(description = \"Entra com a data de inicio e data de fim. Para colocar a data no formato dd/mm/yyyy \")\n",
    "#parser.add_argument(\"datei\",type=str,help=\"data de inicio\")\n",
    "#parser.add_argument(\"datef\",type=str,help=\"data de fim\")\n",
    "#args = parser.parse_args()\n",
    "#start_date = dt.date(int((args.datei).split(\"/\")[2]),int((args.datei).split(\"/\")[1])),int(args.datei).split(\"/\")[0]))\n",
    "#end_date = dt.date(int((args.datef).split(\"/\")[2])),int((args.datef).split(\"/\")[1]),int((args.datef).split(\"/\")[0]))\n",
    "\n",
    "# extraindo os dados da data de inicio e data de fim de forma normal\n",
    "start_date = dt.date(2021,1,1)\n",
    "end_date = dt.date(2021,1,1)\n",
    "arquivos =[]\n",
    "data_year_current = start_date.year\n",
    "if(start_date == end_date):\n",
    "  days_traveled = 0\n",
    "else:\n",
    "  days_traveled = int((str(end_date - start_date)).split(\" \")[0])\n",
    "if(start_date == dt.date(start_date.year,1,1)):\n",
    "        year_for_days = 0\n",
    "else:\n",
    "        year_for_days = int((str(start_date-dt.date(start_date.year,1,1))).split(\" \")[0])+1\n",
    "add_days = 0\n",
    "for dsp in range(days_traveled+1):\n",
    "  year_for_days_current = str(year_for_days+add_days)\n",
    "  for hours in range(24):\n",
    "      target = f'noaa-goes16/{product}/{data_year_current}/{year_for_days_current}/{str(hours)}'\n",
    "      files = np.array(fs.ls(target))\n",
    "      if(len(files)>0):\n",
    "        for i in range(len(files)):\n",
    "          print(files)\n",
    "          filename = files[i].split('/')[-1]\n",
    "          arquivos.append(filename)\n",
    "          fs.get(files[i], filename)\n",
    "          ds = xr.open_dataset(filename)\n",
    "  if(int(year_for_days_current) == 365):\n",
    "     data_year_current = int(data_year_current)+1\n",
    "     add_days = 0\n",
    "     year_for_days = 1\n",
    "  else:\n",
    "    add_days = add_days+1\n",
    "\n"
   ]
  },
  {
   "cell_type": "code",
   "execution_count": null,
   "metadata": {
    "id": "uQOo4x9Zzz07"
   },
   "outputs": [],
   "source": [
    "listaValoresWind = []\n",
    "i = 0\n",
    "def filter_coordinates(ds:xr.Dataset):\n",
    "  return ds[[\"wind_speed\"]].where(\n",
    "      (ds['lat'] >= -23.082616) & (ds['lat'] <= -22.768942) &\n",
    "      (ds['lon'] >= -43.823426) & (ds['lon'] <=  -43.154634),\n",
    "      drop=True)\n",
    "for arq in arquivos:\n",
    "  if i==3:\n",
    "    break\n",
    "  ds = xr.open_dataset(arq)\n",
    "  i+=1\n",
    "\n",
    "\n",
    "\n",
    "\n"
   ]
  },
  {
   "cell_type": "code",
   "execution_count": null,
   "metadata": {
    "colab": {
     "base_uri": "https://localhost:8080/"
    },
    "executionInfo": {
     "elapsed": 266,
     "status": "ok",
     "timestamp": 1687642316783,
     "user": {
      "displayName": "allan jose",
      "userId": "15792183204536819831"
     },
     "user_tz": 180
    },
    "id": "7TYc88jpySiY",
    "outputId": "61ce422c-0a16-41db-e591-97b986c13ec2"
   },
   "outputs": [
    {
     "name": "stdout",
     "output_type": "stream",
     "text": [
      "oi\n"
     ]
    }
   ],
   "source": [
    "print(\"oi\")"
   ]
  },
  {
   "cell_type": "code",
   "execution_count": null,
   "metadata": {
    "colab": {
     "base_uri": "https://localhost:8080/",
     "height": 235
    },
    "executionInfo": {
     "elapsed": 449,
     "status": "error",
     "timestamp": 1687640656784,
     "user": {
      "displayName": "allan jose",
      "userId": "15792183204536819831"
     },
     "user_tz": 180
    },
    "id": "dNlW_wWoKvbZ",
    "outputId": "2dccf62e-dae3-45bf-88ec-0d1ea3af90dd"
   },
   "outputs": [
    {
     "ename": "NameError",
     "evalue": "ignored",
     "output_type": "error",
     "traceback": [
      "\u001b[0;31m---------------------------------------------------------------------------\u001b[0m",
      "\u001b[0;31mNameError\u001b[0m                                 Traceback (most recent call last)",
      "\u001b[0;32m<ipython-input-19-8529c8f8f227>\u001b[0m in \u001b[0;36m<cell line: 18>\u001b[0;34m()\u001b[0m\n\u001b[1;32m     16\u001b[0m       \u001b[0;34m(\u001b[0m\u001b[0mds\u001b[0m\u001b[0;34m[\u001b[0m\u001b[0;34m'lon'\u001b[0m\u001b[0;34m]\u001b[0m \u001b[0;34m>=\u001b[0m \u001b[0;34m-\u001b[0m\u001b[0;36m43.823426\u001b[0m\u001b[0;34m)\u001b[0m \u001b[0;34m&\u001b[0m \u001b[0;34m(\u001b[0m\u001b[0mds\u001b[0m\u001b[0;34m[\u001b[0m\u001b[0;34m'lon'\u001b[0m\u001b[0;34m]\u001b[0m \u001b[0;34m<=\u001b[0m  \u001b[0;34m-\u001b[0m\u001b[0;36m43.154634\u001b[0m\u001b[0;34m)\u001b[0m\u001b[0;34m,\u001b[0m\u001b[0;34m\u001b[0m\u001b[0;34m\u001b[0m\u001b[0m\n\u001b[1;32m     17\u001b[0m       drop=True)\n\u001b[0;32m---> 18\u001b[0;31m \u001b[0mfilter_coordinates\u001b[0m\u001b[0;34m(\u001b[0m\u001b[0mds\u001b[0m\u001b[0;34m)\u001b[0m\u001b[0;34m\u001b[0m\u001b[0;34m\u001b[0m\u001b[0m\n\u001b[0m\u001b[1;32m     19\u001b[0m \u001b[0mds\u001b[0m\u001b[0;34m[\u001b[0m\u001b[0;34m\"wind_speed\"\u001b[0m\u001b[0;34m]\u001b[0m\u001b[0;34m\u001b[0m\u001b[0;34m\u001b[0m\u001b[0m\n\u001b[1;32m     20\u001b[0m \u001b[0;34m\u001b[0m\u001b[0m\n",
      "\u001b[0;31mNameError\u001b[0m: name 'ds' is not defined"
     ]
    }
   ],
   "source": [
    "# rj = dict()\n",
    "# rj['coords'] = {'n_lat': -22.768942,\n",
    "#                 's_lat': -23.082616,\n",
    "#                 'w_lon': -43.823426,\n",
    "#                 'e_lon': -43.154634}\n",
    "\n",
    "# def filter_coordinates(ds:xr.Dataset, coords):\n",
    "#   return ds['event_energy'].where(\n",
    "#       (ds['event_lat'] >= coords['s_lat']) & (ds['event_lat'] <= coords['n_lat']) &\n",
    "#       (ds['event_lon'] >= coords['w_lon']) & (ds['event_lon'] <= coords['e_lon']),\n",
    "#       drop=True)\n",
    "\n",
    "def filter_coordinates(ds:xr.Dataset):\n",
    "  return ds[[\"wind_speed\",\"temperature\",\"wind_direction\"]].where(\n",
    "      (ds['lat'] >= -23.082616) & (ds['lat'] <= -22.768942) &\n",
    "      (ds['lon'] >= -43.823426) & (ds['lon'] <=  -43.154634),\n",
    "      drop=True)\n",
    "filter_coordinates(ds)\n",
    "ds[\"wind_speed\"]\n",
    "\n",
    "\n",
    "\n"
   ]
  },
  {
   "cell_type": "markdown",
   "metadata": {
    "id": "uXdY1V0SB6W7"
   },
   "source": []
  },
  {
   "cell_type": "code",
   "execution_count": null,
   "metadata": {
    "id": "jZbP6M73K1Wk"
   },
   "outputs": [],
   "source": [
    "# try:\n",
    "#   ds = filter_coordinates(ds, rj['coords'])\n",
    "# except ValueError:\n",
    "#   print('Value Error')\n",
    "\n",
    "try:\n",
    "  ds = filter_coordinates(ds)\n",
    "except ValueError:\n",
    "  print('Value Error')"
   ]
  },
  {
   "cell_type": "code",
   "execution_count": null,
   "metadata": {
    "colab": {
     "base_uri": "https://localhost:8080/",
     "height": 368
    },
    "executionInfo": {
     "elapsed": 4,
     "status": "ok",
     "timestamp": 1687629042330,
     "user": {
      "displayName": "allan jose",
      "userId": "15792183204536819831"
     },
     "user_tz": 180
    },
    "id": "_CezZNImFLeu",
    "outputId": "6cdda980-8cb8-4c30-84ae-1d38029a8db1"
   },
   "outputs": [
    {
     "data": {
      "text/html": [
       "\n",
       "  <div id=\"df-5f691464-e008-4baa-bbb2-b2cf7e356fa6\">\n",
       "    <div class=\"colab-df-container\">\n",
       "      <div>\n",
       "<style scoped>\n",
       "    .dataframe tbody tr th:only-of-type {\n",
       "        vertical-align: middle;\n",
       "    }\n",
       "\n",
       "    .dataframe tbody tr th {\n",
       "        vertical-align: top;\n",
       "    }\n",
       "\n",
       "    .dataframe thead th {\n",
       "        text-align: right;\n",
       "    }\n",
       "</style>\n",
       "<table border=\"1\" class=\"dataframe\">\n",
       "  <thead>\n",
       "    <tr style=\"text-align: right;\">\n",
       "      <th></th>\n",
       "      <th>wind_speed</th>\n",
       "      <th>temperature</th>\n",
       "      <th>wind_direction</th>\n",
       "      <th>lat</th>\n",
       "      <th>lon</th>\n",
       "      <th>time</th>\n",
       "      <th>pressure</th>\n",
       "      <th>local_zenith_angle</th>\n",
       "      <th>solar_zenith_angle</th>\n",
       "      <th>lat_image</th>\n",
       "      <th>lon_image</th>\n",
       "      <th>retrieval_local_zenith_angle</th>\n",
       "    </tr>\n",
       "    <tr>\n",
       "      <th>nMeasures</th>\n",
       "      <th></th>\n",
       "      <th></th>\n",
       "      <th></th>\n",
       "      <th></th>\n",
       "      <th></th>\n",
       "      <th></th>\n",
       "      <th></th>\n",
       "      <th></th>\n",
       "      <th></th>\n",
       "      <th></th>\n",
       "      <th></th>\n",
       "      <th></th>\n",
       "    </tr>\n",
       "  </thead>\n",
       "  <tbody>\n",
       "    <tr>\n",
       "      <th>0</th>\n",
       "      <td>NaN</td>\n",
       "      <td>NaN</td>\n",
       "      <td>NaN</td>\n",
       "      <td>-22.868574</td>\n",
       "      <td>-43.616756</td>\n",
       "      <td>2021-04-14 13:00:18.604036992</td>\n",
       "      <td>NaN</td>\n",
       "      <td>44.182777</td>\n",
       "      <td>42.500553</td>\n",
       "      <td>0.0</td>\n",
       "      <td>-75.0</td>\n",
       "      <td>90.0</td>\n",
       "    </tr>\n",
       "    <tr>\n",
       "      <th>1</th>\n",
       "      <td>NaN</td>\n",
       "      <td>NaN</td>\n",
       "      <td>NaN</td>\n",
       "      <td>-22.961721</td>\n",
       "      <td>-43.359940</td>\n",
       "      <td>2021-04-14 13:00:18.604036992</td>\n",
       "      <td>NaN</td>\n",
       "      <td>44.462883</td>\n",
       "      <td>42.401928</td>\n",
       "      <td>0.0</td>\n",
       "      <td>-75.0</td>\n",
       "      <td>90.0</td>\n",
       "    </tr>\n",
       "    <tr>\n",
       "      <th>2</th>\n",
       "      <td>NaN</td>\n",
       "      <td>NaN</td>\n",
       "      <td>NaN</td>\n",
       "      <td>-22.961721</td>\n",
       "      <td>-43.359940</td>\n",
       "      <td>2021-04-14 13:00:18.604036992</td>\n",
       "      <td>NaN</td>\n",
       "      <td>44.462883</td>\n",
       "      <td>42.401928</td>\n",
       "      <td>0.0</td>\n",
       "      <td>-75.0</td>\n",
       "      <td>90.0</td>\n",
       "    </tr>\n",
       "    <tr>\n",
       "      <th>3</th>\n",
       "      <td>NaN</td>\n",
       "      <td>NaN</td>\n",
       "      <td>NaN</td>\n",
       "      <td>-22.964491</td>\n",
       "      <td>-43.282986</td>\n",
       "      <td>2021-04-14 13:00:18.604036992</td>\n",
       "      <td>NaN</td>\n",
       "      <td>44.531719</td>\n",
       "      <td>42.354607</td>\n",
       "      <td>0.0</td>\n",
       "      <td>-75.0</td>\n",
       "      <td>90.0</td>\n",
       "    </tr>\n",
       "    <tr>\n",
       "      <th>4</th>\n",
       "      <td>NaN</td>\n",
       "      <td>NaN</td>\n",
       "      <td>NaN</td>\n",
       "      <td>-23.032961</td>\n",
       "      <td>-43.716633</td>\n",
       "      <td>2021-04-14 13:00:18.604036992</td>\n",
       "      <td>NaN</td>\n",
       "      <td>44.195362</td>\n",
       "      <td>42.682274</td>\n",
       "      <td>0.0</td>\n",
       "      <td>-75.0</td>\n",
       "      <td>90.0</td>\n",
       "    </tr>\n",
       "  </tbody>\n",
       "</table>\n",
       "</div>\n",
       "      <button class=\"colab-df-convert\" onclick=\"convertToInteractive('df-5f691464-e008-4baa-bbb2-b2cf7e356fa6')\"\n",
       "              title=\"Convert this dataframe to an interactive table.\"\n",
       "              style=\"display:none;\">\n",
       "        \n",
       "  <svg xmlns=\"http://www.w3.org/2000/svg\" height=\"24px\"viewBox=\"0 0 24 24\"\n",
       "       width=\"24px\">\n",
       "    <path d=\"M0 0h24v24H0V0z\" fill=\"none\"/>\n",
       "    <path d=\"M18.56 5.44l.94 2.06.94-2.06 2.06-.94-2.06-.94-.94-2.06-.94 2.06-2.06.94zm-11 1L8.5 8.5l.94-2.06 2.06-.94-2.06-.94L8.5 2.5l-.94 2.06-2.06.94zm10 10l.94 2.06.94-2.06 2.06-.94-2.06-.94-.94-2.06-.94 2.06-2.06.94z\"/><path d=\"M17.41 7.96l-1.37-1.37c-.4-.4-.92-.59-1.43-.59-.52 0-1.04.2-1.43.59L10.3 9.45l-7.72 7.72c-.78.78-.78 2.05 0 2.83L4 21.41c.39.39.9.59 1.41.59.51 0 1.02-.2 1.41-.59l7.78-7.78 2.81-2.81c.8-.78.8-2.07 0-2.86zM5.41 20L4 18.59l7.72-7.72 1.47 1.35L5.41 20z\"/>\n",
       "  </svg>\n",
       "      </button>\n",
       "      \n",
       "  <style>\n",
       "    .colab-df-container {\n",
       "      display:flex;\n",
       "      flex-wrap:wrap;\n",
       "      gap: 12px;\n",
       "    }\n",
       "\n",
       "    .colab-df-convert {\n",
       "      background-color: #E8F0FE;\n",
       "      border: none;\n",
       "      border-radius: 50%;\n",
       "      cursor: pointer;\n",
       "      display: none;\n",
       "      fill: #1967D2;\n",
       "      height: 32px;\n",
       "      padding: 0 0 0 0;\n",
       "      width: 32px;\n",
       "    }\n",
       "\n",
       "    .colab-df-convert:hover {\n",
       "      background-color: #E2EBFA;\n",
       "      box-shadow: 0px 1px 2px rgba(60, 64, 67, 0.3), 0px 1px 3px 1px rgba(60, 64, 67, 0.15);\n",
       "      fill: #174EA6;\n",
       "    }\n",
       "\n",
       "    [theme=dark] .colab-df-convert {\n",
       "      background-color: #3B4455;\n",
       "      fill: #D2E3FC;\n",
       "    }\n",
       "\n",
       "    [theme=dark] .colab-df-convert:hover {\n",
       "      background-color: #434B5C;\n",
       "      box-shadow: 0px 1px 3px 1px rgba(0, 0, 0, 0.15);\n",
       "      filter: drop-shadow(0px 1px 2px rgba(0, 0, 0, 0.3));\n",
       "      fill: #FFFFFF;\n",
       "    }\n",
       "  </style>\n",
       "\n",
       "      <script>\n",
       "        const buttonEl =\n",
       "          document.querySelector('#df-5f691464-e008-4baa-bbb2-b2cf7e356fa6 button.colab-df-convert');\n",
       "        buttonEl.style.display =\n",
       "          google.colab.kernel.accessAllowed ? 'block' : 'none';\n",
       "\n",
       "        async function convertToInteractive(key) {\n",
       "          const element = document.querySelector('#df-5f691464-e008-4baa-bbb2-b2cf7e356fa6');\n",
       "          const dataTable =\n",
       "            await google.colab.kernel.invokeFunction('convertToInteractive',\n",
       "                                                     [key], {});\n",
       "          if (!dataTable) return;\n",
       "\n",
       "          const docLinkHtml = 'Like what you see? Visit the ' +\n",
       "            '<a target=\"_blank\" href=https://colab.research.google.com/notebooks/data_table.ipynb>data table notebook</a>'\n",
       "            + ' to learn more about interactive tables.';\n",
       "          element.innerHTML = '';\n",
       "          dataTable['output_type'] = 'display_data';\n",
       "          await google.colab.output.renderOutput(dataTable, element);\n",
       "          const docLink = document.createElement('div');\n",
       "          docLink.innerHTML = docLinkHtml;\n",
       "          element.appendChild(docLink);\n",
       "        }\n",
       "      </script>\n",
       "    </div>\n",
       "  </div>\n",
       "  "
      ],
      "text/plain": [
       "           wind_speed  temperature  wind_direction        lat        lon  \\\n",
       "nMeasures                                                                  \n",
       "0                 NaN          NaN             NaN -22.868574 -43.616756   \n",
       "1                 NaN          NaN             NaN -22.961721 -43.359940   \n",
       "2                 NaN          NaN             NaN -22.961721 -43.359940   \n",
       "3                 NaN          NaN             NaN -22.964491 -43.282986   \n",
       "4                 NaN          NaN             NaN -23.032961 -43.716633   \n",
       "\n",
       "                                   time  pressure  local_zenith_angle  \\\n",
       "nMeasures                                                               \n",
       "0         2021-04-14 13:00:18.604036992       NaN           44.182777   \n",
       "1         2021-04-14 13:00:18.604036992       NaN           44.462883   \n",
       "2         2021-04-14 13:00:18.604036992       NaN           44.462883   \n",
       "3         2021-04-14 13:00:18.604036992       NaN           44.531719   \n",
       "4         2021-04-14 13:00:18.604036992       NaN           44.195362   \n",
       "\n",
       "           solar_zenith_angle  lat_image  lon_image  \\\n",
       "nMeasures                                             \n",
       "0                   42.500553        0.0      -75.0   \n",
       "1                   42.401928        0.0      -75.0   \n",
       "2                   42.401928        0.0      -75.0   \n",
       "3                   42.354607        0.0      -75.0   \n",
       "4                   42.682274        0.0      -75.0   \n",
       "\n",
       "           retrieval_local_zenith_angle  \n",
       "nMeasures                                \n",
       "0                                  90.0  \n",
       "1                                  90.0  \n",
       "2                                  90.0  \n",
       "3                                  90.0  \n",
       "4                                  90.0  "
      ]
     },
     "execution_count": 44,
     "metadata": {},
     "output_type": "execute_result"
    }
   ],
   "source": [
    "df = ds.to_dataframe()\n",
    "df\n"
   ]
  },
  {
   "cell_type": "code",
   "execution_count": null,
   "metadata": {
    "colab": {
     "base_uri": "https://localhost:8080/",
     "height": 368
    },
    "executionInfo": {
     "elapsed": 344,
     "status": "ok",
     "timestamp": 1687628554413,
     "user": {
      "displayName": "allan jose",
      "userId": "15792183204536819831"
     },
     "user_tz": 180
    },
    "id": "SRHVIJ-7GlTP",
    "outputId": "1b88c752-a771-41de-c5e1-4f864c85a316"
   },
   "outputs": [
    {
     "data": {
      "text/html": [
       "\n",
       "  <div id=\"df-f471a6cc-556d-485f-872e-11ffa53e868d\">\n",
       "    <div class=\"colab-df-container\">\n",
       "      <div>\n",
       "<style scoped>\n",
       "    .dataframe tbody tr th:only-of-type {\n",
       "        vertical-align: middle;\n",
       "    }\n",
       "\n",
       "    .dataframe tbody tr th {\n",
       "        vertical-align: top;\n",
       "    }\n",
       "\n",
       "    .dataframe thead th {\n",
       "        text-align: right;\n",
       "    }\n",
       "</style>\n",
       "<table border=\"1\" class=\"dataframe\">\n",
       "  <thead>\n",
       "    <tr style=\"text-align: right;\">\n",
       "      <th></th>\n",
       "      <th>wind_speed</th>\n",
       "      <th>temperature</th>\n",
       "      <th>wind_direction</th>\n",
       "      <th>lat</th>\n",
       "      <th>lon</th>\n",
       "      <th>date</th>\n",
       "      <th>pressure</th>\n",
       "      <th>local_zenith_angle</th>\n",
       "      <th>solar_zenith_angle</th>\n",
       "      <th>lat_image</th>\n",
       "      <th>lon_image</th>\n",
       "      <th>retrieval_local_zenith_angle</th>\n",
       "    </tr>\n",
       "    <tr>\n",
       "      <th>nMeasures</th>\n",
       "      <th></th>\n",
       "      <th></th>\n",
       "      <th></th>\n",
       "      <th></th>\n",
       "      <th></th>\n",
       "      <th></th>\n",
       "      <th></th>\n",
       "      <th></th>\n",
       "      <th></th>\n",
       "      <th></th>\n",
       "      <th></th>\n",
       "      <th></th>\n",
       "    </tr>\n",
       "  </thead>\n",
       "  <tbody>\n",
       "    <tr>\n",
       "      <th>0</th>\n",
       "      <td>NaN</td>\n",
       "      <td>NaN</td>\n",
       "      <td>NaN</td>\n",
       "      <td>-22.868574</td>\n",
       "      <td>-43.616756</td>\n",
       "      <td>2021-04-14 13:00:18.604036992</td>\n",
       "      <td>NaN</td>\n",
       "      <td>44.182777</td>\n",
       "      <td>42.500553</td>\n",
       "      <td>0.0</td>\n",
       "      <td>-75.0</td>\n",
       "      <td>90.0</td>\n",
       "    </tr>\n",
       "    <tr>\n",
       "      <th>1</th>\n",
       "      <td>NaN</td>\n",
       "      <td>NaN</td>\n",
       "      <td>NaN</td>\n",
       "      <td>-22.961721</td>\n",
       "      <td>-43.359940</td>\n",
       "      <td>2021-04-14 13:00:18.604036992</td>\n",
       "      <td>NaN</td>\n",
       "      <td>44.462883</td>\n",
       "      <td>42.401928</td>\n",
       "      <td>0.0</td>\n",
       "      <td>-75.0</td>\n",
       "      <td>90.0</td>\n",
       "    </tr>\n",
       "    <tr>\n",
       "      <th>2</th>\n",
       "      <td>NaN</td>\n",
       "      <td>NaN</td>\n",
       "      <td>NaN</td>\n",
       "      <td>-22.961721</td>\n",
       "      <td>-43.359940</td>\n",
       "      <td>2021-04-14 13:00:18.604036992</td>\n",
       "      <td>NaN</td>\n",
       "      <td>44.462883</td>\n",
       "      <td>42.401928</td>\n",
       "      <td>0.0</td>\n",
       "      <td>-75.0</td>\n",
       "      <td>90.0</td>\n",
       "    </tr>\n",
       "    <tr>\n",
       "      <th>3</th>\n",
       "      <td>NaN</td>\n",
       "      <td>NaN</td>\n",
       "      <td>NaN</td>\n",
       "      <td>-22.964491</td>\n",
       "      <td>-43.282986</td>\n",
       "      <td>2021-04-14 13:00:18.604036992</td>\n",
       "      <td>NaN</td>\n",
       "      <td>44.531719</td>\n",
       "      <td>42.354607</td>\n",
       "      <td>0.0</td>\n",
       "      <td>-75.0</td>\n",
       "      <td>90.0</td>\n",
       "    </tr>\n",
       "    <tr>\n",
       "      <th>4</th>\n",
       "      <td>NaN</td>\n",
       "      <td>NaN</td>\n",
       "      <td>NaN</td>\n",
       "      <td>-23.032961</td>\n",
       "      <td>-43.716633</td>\n",
       "      <td>2021-04-14 13:00:18.604036992</td>\n",
       "      <td>NaN</td>\n",
       "      <td>44.195362</td>\n",
       "      <td>42.682274</td>\n",
       "      <td>0.0</td>\n",
       "      <td>-75.0</td>\n",
       "      <td>90.0</td>\n",
       "    </tr>\n",
       "  </tbody>\n",
       "</table>\n",
       "</div>\n",
       "      <button class=\"colab-df-convert\" onclick=\"convertToInteractive('df-f471a6cc-556d-485f-872e-11ffa53e868d')\"\n",
       "              title=\"Convert this dataframe to an interactive table.\"\n",
       "              style=\"display:none;\">\n",
       "        \n",
       "  <svg xmlns=\"http://www.w3.org/2000/svg\" height=\"24px\"viewBox=\"0 0 24 24\"\n",
       "       width=\"24px\">\n",
       "    <path d=\"M0 0h24v24H0V0z\" fill=\"none\"/>\n",
       "    <path d=\"M18.56 5.44l.94 2.06.94-2.06 2.06-.94-2.06-.94-.94-2.06-.94 2.06-2.06.94zm-11 1L8.5 8.5l.94-2.06 2.06-.94-2.06-.94L8.5 2.5l-.94 2.06-2.06.94zm10 10l.94 2.06.94-2.06 2.06-.94-2.06-.94-.94-2.06-.94 2.06-2.06.94z\"/><path d=\"M17.41 7.96l-1.37-1.37c-.4-.4-.92-.59-1.43-.59-.52 0-1.04.2-1.43.59L10.3 9.45l-7.72 7.72c-.78.78-.78 2.05 0 2.83L4 21.41c.39.39.9.59 1.41.59.51 0 1.02-.2 1.41-.59l7.78-7.78 2.81-2.81c.8-.78.8-2.07 0-2.86zM5.41 20L4 18.59l7.72-7.72 1.47 1.35L5.41 20z\"/>\n",
       "  </svg>\n",
       "      </button>\n",
       "      \n",
       "  <style>\n",
       "    .colab-df-container {\n",
       "      display:flex;\n",
       "      flex-wrap:wrap;\n",
       "      gap: 12px;\n",
       "    }\n",
       "\n",
       "    .colab-df-convert {\n",
       "      background-color: #E8F0FE;\n",
       "      border: none;\n",
       "      border-radius: 50%;\n",
       "      cursor: pointer;\n",
       "      display: none;\n",
       "      fill: #1967D2;\n",
       "      height: 32px;\n",
       "      padding: 0 0 0 0;\n",
       "      width: 32px;\n",
       "    }\n",
       "\n",
       "    .colab-df-convert:hover {\n",
       "      background-color: #E2EBFA;\n",
       "      box-shadow: 0px 1px 2px rgba(60, 64, 67, 0.3), 0px 1px 3px 1px rgba(60, 64, 67, 0.15);\n",
       "      fill: #174EA6;\n",
       "    }\n",
       "\n",
       "    [theme=dark] .colab-df-convert {\n",
       "      background-color: #3B4455;\n",
       "      fill: #D2E3FC;\n",
       "    }\n",
       "\n",
       "    [theme=dark] .colab-df-convert:hover {\n",
       "      background-color: #434B5C;\n",
       "      box-shadow: 0px 1px 3px 1px rgba(0, 0, 0, 0.15);\n",
       "      filter: drop-shadow(0px 1px 2px rgba(0, 0, 0, 0.3));\n",
       "      fill: #FFFFFF;\n",
       "    }\n",
       "  </style>\n",
       "\n",
       "      <script>\n",
       "        const buttonEl =\n",
       "          document.querySelector('#df-f471a6cc-556d-485f-872e-11ffa53e868d button.colab-df-convert');\n",
       "        buttonEl.style.display =\n",
       "          google.colab.kernel.accessAllowed ? 'block' : 'none';\n",
       "\n",
       "        async function convertToInteractive(key) {\n",
       "          const element = document.querySelector('#df-f471a6cc-556d-485f-872e-11ffa53e868d');\n",
       "          const dataTable =\n",
       "            await google.colab.kernel.invokeFunction('convertToInteractive',\n",
       "                                                     [key], {});\n",
       "          if (!dataTable) return;\n",
       "\n",
       "          const docLinkHtml = 'Like what you see? Visit the ' +\n",
       "            '<a target=\"_blank\" href=https://colab.research.google.com/notebooks/data_table.ipynb>data table notebook</a>'\n",
       "            + ' to learn more about interactive tables.';\n",
       "          element.innerHTML = '';\n",
       "          dataTable['output_type'] = 'display_data';\n",
       "          await google.colab.output.renderOutput(dataTable, element);\n",
       "          const docLink = document.createElement('div');\n",
       "          docLink.innerHTML = docLinkHtml;\n",
       "          element.appendChild(docLink);\n",
       "        }\n",
       "      </script>\n",
       "    </div>\n",
       "  </div>\n",
       "  "
      ],
      "text/plain": [
       "           wind_speed  temperature  wind_direction        lat        lon  \\\n",
       "nMeasures                                                                  \n",
       "0                 NaN          NaN             NaN -22.868574 -43.616756   \n",
       "1                 NaN          NaN             NaN -22.961721 -43.359940   \n",
       "2                 NaN          NaN             NaN -22.961721 -43.359940   \n",
       "3                 NaN          NaN             NaN -22.964491 -43.282986   \n",
       "4                 NaN          NaN             NaN -23.032961 -43.716633   \n",
       "\n",
       "                                    date  pressure  local_zenith_angle  \\\n",
       "nMeasures                                                                \n",
       "0          2021-04-14 13:00:18.604036992       NaN           44.182777   \n",
       "1          2021-04-14 13:00:18.604036992       NaN           44.462883   \n",
       "2          2021-04-14 13:00:18.604036992       NaN           44.462883   \n",
       "3          2021-04-14 13:00:18.604036992       NaN           44.531719   \n",
       "4          2021-04-14 13:00:18.604036992       NaN           44.195362   \n",
       "\n",
       "           solar_zenith_angle  lat_image  lon_image  \\\n",
       "nMeasures                                             \n",
       "0                   42.500553        0.0      -75.0   \n",
       "1                   42.401928        0.0      -75.0   \n",
       "2                   42.401928        0.0      -75.0   \n",
       "3                   42.354607        0.0      -75.0   \n",
       "4                   42.682274        0.0      -75.0   \n",
       "\n",
       "           retrieval_local_zenith_angle  \n",
       "nMeasures                                \n",
       "0                                  90.0  \n",
       "1                                  90.0  \n",
       "2                                  90.0  \n",
       "3                                  90.0  \n",
       "4                                  90.0  "
      ]
     },
     "execution_count": 34,
     "metadata": {},
     "output_type": "execute_result"
    }
   ],
   "source": [
    "df.rename(columns={'time': 'date'},\n",
    "          inplace=True)\n",
    "#df.set_index('data', inplace=True)\n",
    "df['date'] = df['date'].astype(str)\n",
    "df"
   ]
  },
  {
   "cell_type": "code",
   "execution_count": null,
   "metadata": {
    "colab": {
     "base_uri": "https://localhost:8080/"
    },
    "executionInfo": {
     "elapsed": 290,
     "status": "ok",
     "timestamp": 1687628579126,
     "user": {
      "displayName": "allan jose",
      "userId": "15792183204536819831"
     },
     "user_tz": 180
    },
    "id": "5IjKtZImi9Si",
    "outputId": "86c0a9d3-c44f-4bc9-a333-d3a1a3b6fac0"
   },
   "outputs": [
    {
     "data": {
      "text/plain": [
       "Index(['wind_speed', 'temperature', 'wind_direction', 'lat', 'lon', 'date',\n",
       "       'pressure', 'local_zenith_angle', 'solar_zenith_angle', 'lat_image',\n",
       "       'lon_image', 'retrieval_local_zenith_angle'],\n",
       "      dtype='object')"
      ]
     },
     "execution_count": 35,
     "metadata": {},
     "output_type": "execute_result"
    }
   ],
   "source": [
    "df.columns"
   ]
  },
  {
   "cell_type": "code",
   "execution_count": null,
   "metadata": {
    "id": "JIqpjNePGmky"
   },
   "outputs": [],
   "source": [
    "#df = df.fillna(\"Não tem valor medido\")"
   ]
  },
  {
   "cell_type": "code",
   "execution_count": null,
   "metadata": {
    "colab": {
     "base_uri": "https://localhost:8080/",
     "height": 235
    },
    "executionInfo": {
     "elapsed": 316,
     "status": "error",
     "timestamp": 1687628586564,
     "user": {
      "displayName": "allan jose",
      "userId": "15792183204536819831"
     },
     "user_tz": 180
    },
    "id": "zKXfOoekIZdf",
    "outputId": "9022cb0f-aae5-4b52-9251-ff8ee61ece75"
   },
   "outputs": [
    {
     "ename": "NameError",
     "evalue": "ignored",
     "output_type": "error",
     "traceback": [
      "\u001b[0;31m---------------------------------------------------------------------------\u001b[0m",
      "\u001b[0;31mNameError\u001b[0m                                 Traceback (most recent call last)",
      "\u001b[0;32m<ipython-input-36-07525ecff2bd>\u001b[0m in \u001b[0;36m<cell line: 4>\u001b[0;34m()\u001b[0m\n\u001b[1;32m      5\u001b[0m                        geometry=gpd.points_from_xy(dff['lon'],\n\u001b[1;32m      6\u001b[0m                                                    \u001b[0mdff\u001b[0m\u001b[0;34m[\u001b[0m\u001b[0;34m'lat'\u001b[0m\u001b[0;34m]\u001b[0m\u001b[0;34m,\u001b[0m\u001b[0;34m\u001b[0m\u001b[0;34m\u001b[0m\u001b[0m\n\u001b[0;32m----> 7\u001b[0;31m                                                    crs=rj_city.crs),\n\u001b[0m\u001b[1;32m      8\u001b[0m                        crs=rj_city.crs)\n\u001b[1;32m      9\u001b[0m \u001b[0;34m\u001b[0m\u001b[0m\n",
      "\u001b[0;31mNameError\u001b[0m: name 'rj_city' is not defined"
     ]
    }
   ],
   "source": [
    "dff = df.iloc[:6,:]\n",
    "#data_escolhida = \"2021-06-14 18:00:19.435857024\"\n",
    "#dff = df[ df[\"date\"] == data_escolhida]\n",
    "gdf = gpd.GeoDataFrame(dff,\n",
    "                       geometry=gpd.points_from_xy(dff['lon'],\n",
    "                                                   dff['lat'],\n",
    "                                                   crs=rj_city.crs),\n",
    "                       crs=rj_city.crs)\n",
    "\n",
    "dff"
   ]
  },
  {
   "cell_type": "code",
   "execution_count": null,
   "metadata": {
    "colab": {
     "base_uri": "https://localhost:8080/"
    },
    "executionInfo": {
     "elapsed": 324,
     "status": "ok",
     "timestamp": 1687628605359,
     "user": {
      "displayName": "allan jose",
      "userId": "15792183204536819831"
     },
     "user_tz": 180
    },
    "id": "0t5XmZNCwrVE",
    "outputId": "cd1089ce-1042-44a1-f20b-96c7be571eff"
   },
   "outputs": [
    {
     "name": "stdout",
     "output_type": "stream",
     "text": [
      "<class 'pandas.core.frame.DataFrame'>\n",
      "RangeIndex: 5 entries, 0 to 4\n",
      "Data columns (total 12 columns):\n",
      " #   Column                        Non-Null Count  Dtype  \n",
      "---  ------                        --------------  -----  \n",
      " 0   wind_speed                    0 non-null      float32\n",
      " 1   temperature                   0 non-null      float32\n",
      " 2   wind_direction                0 non-null      float32\n",
      " 3   lat                           5 non-null      float64\n",
      " 4   lon                           5 non-null      float64\n",
      " 5   date                          5 non-null      object \n",
      " 6   pressure                      0 non-null      float32\n",
      " 7   local_zenith_angle            5 non-null      float32\n",
      " 8   solar_zenith_angle            5 non-null      float32\n",
      " 9   lat_image                     5 non-null      float32\n",
      " 10  lon_image                     5 non-null      float32\n",
      " 11  retrieval_local_zenith_angle  5 non-null      float32\n",
      "dtypes: float32(9), float64(2), object(1)\n",
      "memory usage: 428.0+ bytes\n"
     ]
    }
   ],
   "source": [
    "df.info()"
   ]
  },
  {
   "cell_type": "code",
   "execution_count": null,
   "metadata": {
    "colab": {
     "base_uri": "https://localhost:8080/",
     "height": 368
    },
    "executionInfo": {
     "elapsed": 313,
     "status": "ok",
     "timestamp": 1687628609480,
     "user": {
      "displayName": "allan jose",
      "userId": "15792183204536819831"
     },
     "user_tz": 180
    },
    "id": "Biyep76axtha",
    "outputId": "45c7ef81-2988-4f98-ce86-15bf024f8df8"
   },
   "outputs": [
    {
     "data": {
      "text/html": [
       "\n",
       "  <div id=\"df-b44b2906-dd09-4057-b227-a643bb18c4fc\">\n",
       "    <div class=\"colab-df-container\">\n",
       "      <div>\n",
       "<style scoped>\n",
       "    .dataframe tbody tr th:only-of-type {\n",
       "        vertical-align: middle;\n",
       "    }\n",
       "\n",
       "    .dataframe tbody tr th {\n",
       "        vertical-align: top;\n",
       "    }\n",
       "\n",
       "    .dataframe thead th {\n",
       "        text-align: right;\n",
       "    }\n",
       "</style>\n",
       "<table border=\"1\" class=\"dataframe\">\n",
       "  <thead>\n",
       "    <tr style=\"text-align: right;\">\n",
       "      <th></th>\n",
       "      <th>wind_speed</th>\n",
       "      <th>temperature</th>\n",
       "      <th>wind_direction</th>\n",
       "      <th>lat</th>\n",
       "      <th>lon</th>\n",
       "      <th>date</th>\n",
       "      <th>pressure</th>\n",
       "      <th>local_zenith_angle</th>\n",
       "      <th>solar_zenith_angle</th>\n",
       "      <th>lat_image</th>\n",
       "      <th>lon_image</th>\n",
       "      <th>retrieval_local_zenith_angle</th>\n",
       "    </tr>\n",
       "    <tr>\n",
       "      <th>nMeasures</th>\n",
       "      <th></th>\n",
       "      <th></th>\n",
       "      <th></th>\n",
       "      <th></th>\n",
       "      <th></th>\n",
       "      <th></th>\n",
       "      <th></th>\n",
       "      <th></th>\n",
       "      <th></th>\n",
       "      <th></th>\n",
       "      <th></th>\n",
       "      <th></th>\n",
       "    </tr>\n",
       "  </thead>\n",
       "  <tbody>\n",
       "    <tr>\n",
       "      <th>0</th>\n",
       "      <td>NaN</td>\n",
       "      <td>NaN</td>\n",
       "      <td>NaN</td>\n",
       "      <td>-22.868574</td>\n",
       "      <td>-43.616756</td>\n",
       "      <td>2021-04-14 13:00:18.604036992</td>\n",
       "      <td>NaN</td>\n",
       "      <td>44.182777</td>\n",
       "      <td>42.500553</td>\n",
       "      <td>0.0</td>\n",
       "      <td>-75.0</td>\n",
       "      <td>90.0</td>\n",
       "    </tr>\n",
       "    <tr>\n",
       "      <th>1</th>\n",
       "      <td>NaN</td>\n",
       "      <td>NaN</td>\n",
       "      <td>NaN</td>\n",
       "      <td>-22.961721</td>\n",
       "      <td>-43.359940</td>\n",
       "      <td>2021-04-14 13:00:18.604036992</td>\n",
       "      <td>NaN</td>\n",
       "      <td>44.462883</td>\n",
       "      <td>42.401928</td>\n",
       "      <td>0.0</td>\n",
       "      <td>-75.0</td>\n",
       "      <td>90.0</td>\n",
       "    </tr>\n",
       "    <tr>\n",
       "      <th>2</th>\n",
       "      <td>NaN</td>\n",
       "      <td>NaN</td>\n",
       "      <td>NaN</td>\n",
       "      <td>-22.961721</td>\n",
       "      <td>-43.359940</td>\n",
       "      <td>2021-04-14 13:00:18.604036992</td>\n",
       "      <td>NaN</td>\n",
       "      <td>44.462883</td>\n",
       "      <td>42.401928</td>\n",
       "      <td>0.0</td>\n",
       "      <td>-75.0</td>\n",
       "      <td>90.0</td>\n",
       "    </tr>\n",
       "    <tr>\n",
       "      <th>3</th>\n",
       "      <td>NaN</td>\n",
       "      <td>NaN</td>\n",
       "      <td>NaN</td>\n",
       "      <td>-22.964491</td>\n",
       "      <td>-43.282986</td>\n",
       "      <td>2021-04-14 13:00:18.604036992</td>\n",
       "      <td>NaN</td>\n",
       "      <td>44.531719</td>\n",
       "      <td>42.354607</td>\n",
       "      <td>0.0</td>\n",
       "      <td>-75.0</td>\n",
       "      <td>90.0</td>\n",
       "    </tr>\n",
       "    <tr>\n",
       "      <th>4</th>\n",
       "      <td>NaN</td>\n",
       "      <td>NaN</td>\n",
       "      <td>NaN</td>\n",
       "      <td>-23.032961</td>\n",
       "      <td>-43.716633</td>\n",
       "      <td>2021-04-14 13:00:18.604036992</td>\n",
       "      <td>NaN</td>\n",
       "      <td>44.195362</td>\n",
       "      <td>42.682274</td>\n",
       "      <td>0.0</td>\n",
       "      <td>-75.0</td>\n",
       "      <td>90.0</td>\n",
       "    </tr>\n",
       "  </tbody>\n",
       "</table>\n",
       "</div>\n",
       "      <button class=\"colab-df-convert\" onclick=\"convertToInteractive('df-b44b2906-dd09-4057-b227-a643bb18c4fc')\"\n",
       "              title=\"Convert this dataframe to an interactive table.\"\n",
       "              style=\"display:none;\">\n",
       "        \n",
       "  <svg xmlns=\"http://www.w3.org/2000/svg\" height=\"24px\"viewBox=\"0 0 24 24\"\n",
       "       width=\"24px\">\n",
       "    <path d=\"M0 0h24v24H0V0z\" fill=\"none\"/>\n",
       "    <path d=\"M18.56 5.44l.94 2.06.94-2.06 2.06-.94-2.06-.94-.94-2.06-.94 2.06-2.06.94zm-11 1L8.5 8.5l.94-2.06 2.06-.94-2.06-.94L8.5 2.5l-.94 2.06-2.06.94zm10 10l.94 2.06.94-2.06 2.06-.94-2.06-.94-.94-2.06-.94 2.06-2.06.94z\"/><path d=\"M17.41 7.96l-1.37-1.37c-.4-.4-.92-.59-1.43-.59-.52 0-1.04.2-1.43.59L10.3 9.45l-7.72 7.72c-.78.78-.78 2.05 0 2.83L4 21.41c.39.39.9.59 1.41.59.51 0 1.02-.2 1.41-.59l7.78-7.78 2.81-2.81c.8-.78.8-2.07 0-2.86zM5.41 20L4 18.59l7.72-7.72 1.47 1.35L5.41 20z\"/>\n",
       "  </svg>\n",
       "      </button>\n",
       "      \n",
       "  <style>\n",
       "    .colab-df-container {\n",
       "      display:flex;\n",
       "      flex-wrap:wrap;\n",
       "      gap: 12px;\n",
       "    }\n",
       "\n",
       "    .colab-df-convert {\n",
       "      background-color: #E8F0FE;\n",
       "      border: none;\n",
       "      border-radius: 50%;\n",
       "      cursor: pointer;\n",
       "      display: none;\n",
       "      fill: #1967D2;\n",
       "      height: 32px;\n",
       "      padding: 0 0 0 0;\n",
       "      width: 32px;\n",
       "    }\n",
       "\n",
       "    .colab-df-convert:hover {\n",
       "      background-color: #E2EBFA;\n",
       "      box-shadow: 0px 1px 2px rgba(60, 64, 67, 0.3), 0px 1px 3px 1px rgba(60, 64, 67, 0.15);\n",
       "      fill: #174EA6;\n",
       "    }\n",
       "\n",
       "    [theme=dark] .colab-df-convert {\n",
       "      background-color: #3B4455;\n",
       "      fill: #D2E3FC;\n",
       "    }\n",
       "\n",
       "    [theme=dark] .colab-df-convert:hover {\n",
       "      background-color: #434B5C;\n",
       "      box-shadow: 0px 1px 3px 1px rgba(0, 0, 0, 0.15);\n",
       "      filter: drop-shadow(0px 1px 2px rgba(0, 0, 0, 0.3));\n",
       "      fill: #FFFFFF;\n",
       "    }\n",
       "  </style>\n",
       "\n",
       "      <script>\n",
       "        const buttonEl =\n",
       "          document.querySelector('#df-b44b2906-dd09-4057-b227-a643bb18c4fc button.colab-df-convert');\n",
       "        buttonEl.style.display =\n",
       "          google.colab.kernel.accessAllowed ? 'block' : 'none';\n",
       "\n",
       "        async function convertToInteractive(key) {\n",
       "          const element = document.querySelector('#df-b44b2906-dd09-4057-b227-a643bb18c4fc');\n",
       "          const dataTable =\n",
       "            await google.colab.kernel.invokeFunction('convertToInteractive',\n",
       "                                                     [key], {});\n",
       "          if (!dataTable) return;\n",
       "\n",
       "          const docLinkHtml = 'Like what you see? Visit the ' +\n",
       "            '<a target=\"_blank\" href=https://colab.research.google.com/notebooks/data_table.ipynb>data table notebook</a>'\n",
       "            + ' to learn more about interactive tables.';\n",
       "          element.innerHTML = '';\n",
       "          dataTable['output_type'] = 'display_data';\n",
       "          await google.colab.output.renderOutput(dataTable, element);\n",
       "          const docLink = document.createElement('div');\n",
       "          docLink.innerHTML = docLinkHtml;\n",
       "          element.appendChild(docLink);\n",
       "        }\n",
       "      </script>\n",
       "    </div>\n",
       "  </div>\n",
       "  "
      ],
      "text/plain": [
       "           wind_speed  temperature  wind_direction        lat        lon  \\\n",
       "nMeasures                                                                  \n",
       "0                 NaN          NaN             NaN -22.868574 -43.616756   \n",
       "1                 NaN          NaN             NaN -22.961721 -43.359940   \n",
       "2                 NaN          NaN             NaN -22.961721 -43.359940   \n",
       "3                 NaN          NaN             NaN -22.964491 -43.282986   \n",
       "4                 NaN          NaN             NaN -23.032961 -43.716633   \n",
       "\n",
       "                                    date  pressure  local_zenith_angle  \\\n",
       "nMeasures                                                                \n",
       "0          2021-04-14 13:00:18.604036992       NaN           44.182777   \n",
       "1          2021-04-14 13:00:18.604036992       NaN           44.462883   \n",
       "2          2021-04-14 13:00:18.604036992       NaN           44.462883   \n",
       "3          2021-04-14 13:00:18.604036992       NaN           44.531719   \n",
       "4          2021-04-14 13:00:18.604036992       NaN           44.195362   \n",
       "\n",
       "           solar_zenith_angle  lat_image  lon_image  \\\n",
       "nMeasures                                             \n",
       "0                   42.500553        0.0      -75.0   \n",
       "1                   42.401928        0.0      -75.0   \n",
       "2                   42.401928        0.0      -75.0   \n",
       "3                   42.354607        0.0      -75.0   \n",
       "4                   42.682274        0.0      -75.0   \n",
       "\n",
       "           retrieval_local_zenith_angle  \n",
       "nMeasures                                \n",
       "0                                  90.0  \n",
       "1                                  90.0  \n",
       "2                                  90.0  \n",
       "3                                  90.0  \n",
       "4                                  90.0  "
      ]
     },
     "execution_count": 38,
     "metadata": {},
     "output_type": "execute_result"
    }
   ],
   "source": [
    "df.head(32)"
   ]
  },
  {
   "cell_type": "code",
   "execution_count": null,
   "metadata": {
    "colab": {
     "base_uri": "https://localhost:8080/",
     "height": 235
    },
    "executionInfo": {
     "elapsed": 273,
     "status": "error",
     "timestamp": 1687628674284,
     "user": {
      "displayName": "allan jose",
      "userId": "15792183204536819831"
     },
     "user_tz": 180
    },
    "id": "SS0L0TlmoeJG",
    "outputId": "31474c7f-6ade-4d36-b8d5-33cbada9210a"
   },
   "outputs": [
    {
     "ename": "NameError",
     "evalue": "ignored",
     "output_type": "error",
     "traceback": [
      "\u001b[0;31m---------------------------------------------------------------------------\u001b[0m",
      "\u001b[0;31mNameError\u001b[0m                                 Traceback (most recent call last)",
      "\u001b[0;32m<ipython-input-39-2d1f5f0ca9cb>\u001b[0m in \u001b[0;36m<cell line: 1>\u001b[0;34m()\u001b[0m\n\u001b[0;32m----> 1\u001b[0;31m \u001b[0max\u001b[0m \u001b[0;34m=\u001b[0m \u001b[0mplot_rj_city\u001b[0m\u001b[0;34m(\u001b[0m\u001b[0;34m)\u001b[0m\u001b[0;34m\u001b[0m\u001b[0;34m\u001b[0m\u001b[0m\n\u001b[0m\u001b[1;32m      2\u001b[0m \u001b[0;34m\u001b[0m\u001b[0m\n\u001b[1;32m      3\u001b[0m gdf.plot(column='wind_direction',\n\u001b[1;32m      4\u001b[0m          \u001b[0max\u001b[0m\u001b[0;34m=\u001b[0m\u001b[0max\u001b[0m\u001b[0;34m,\u001b[0m\u001b[0;34m\u001b[0m\u001b[0;34m\u001b[0m\u001b[0m\n\u001b[1;32m      5\u001b[0m          legend=True)\n",
      "\u001b[0;31mNameError\u001b[0m: name 'plot_rj_city' is not defined"
     ]
    }
   ],
   "source": [
    "ax = plot_rj_city()\n",
    "\n",
    "gdf.plot(column='wind_direction',\n",
    "         ax=ax,\n",
    "         legend=True)\n"
   ]
  },
  {
   "cell_type": "code",
   "execution_count": null,
   "metadata": {
    "colab": {
     "base_uri": "https://localhost:8080/",
     "height": 671
    },
    "id": "H0CLHdeQnljm",
    "outputId": "1c913a5a-7073-4629-9797-9a7d4c4559f2"
   },
   "outputs": [
    {
     "data": {
      "text/plain": [
       "<Axes: >"
      ]
     },
     "execution_count": 66,
     "metadata": {},
     "output_type": "execute_result"
    },
    {
     "data": {
      "image/png": "[encoded data removed]",
      "text/plain": [
       "<Figure size 1000x800 with 2 Axes>"
      ]
     },
     "metadata": {},
     "output_type": "display_data"
    }
   ],
   "source": [
    "ax = plot_rj_city()\n",
    "gdf.plot(column='temperature',\n",
    "         ax=ax,\n",
    "         legend=True)\n"
   ]
  },
  {
   "cell_type": "code",
   "execution_count": null,
   "metadata": {
    "colab": {
     "base_uri": "https://localhost:8080/",
     "height": 684
    },
    "id": "ZQf-2SGEJ3x0",
    "outputId": "323a68a8-1760-4e0b-8948-e5a86ad902a1"
   },
   "outputs": [
    {
     "data": {
      "text/plain": [
       "<Axes: >"
      ]
     },
     "execution_count": 67,
     "metadata": {},
     "output_type": "execute_result"
    },
    {
     "data": {
      "image/png": "[encoded data removed]",
      "text/plain": [
       "<Figure size 1000x800 with 2 Axes>"
      ]
     },
     "metadata": {},
     "output_type": "display_data"
    }
   ],
   "source": [
    "ax = plot_rj_city()\n",
    "gdf.plot(column='wind_speed',\n",
    "         ax=ax,\n",
    "         legend=True)\n"
   ]
  },
  {
   "cell_type": "code",
   "execution_count": null,
   "metadata": {
    "id": "eGIQV3dQyndx"
   },
   "outputs": [],
   "source": [
    "import json\n",
    "p =gdf.to_json()"
   ]
  },
  {
   "cell_type": "code",
   "execution_count": null,
   "metadata": {
    "colab": {
     "base_uri": "https://localhost:8080/",
     "height": 787
    },
    "id": "V8C56K4wtfyn",
    "outputId": "0fce0c40-4726-4b80-db03-f6c78c111f90"
   },
   "outputs": [
    {
     "data": {
      "text/html": [
       "<div style=\"width:100%;\"><div style=\"position:relative;width:100%;height:0;padding-bottom:60%;\"><span style=\"color:#565656\">Make this Notebook Trusted to load map: File -> Trust Notebook</span><iframe srcdoc=\"&lt;!DOCTYPE html&gt;\n",
       "&lt;html&gt;\n",
       "&lt;head&gt;\n",
       "    \n",
       "    &lt;meta http-equiv=&quot;content-type&quot; content=&quot;text/html; charset=UTF-8&quot; /&gt;\n",
       "    \n",
       "        &lt;script&gt;\n",
       "            L_NO_TOUCH = false;\n",
       "            L_DISABLE_3D = false;\n",
       "        &lt;/script&gt;\n",
       "    \n",
       "    &lt;style&gt;html, body {width: 100%;height: 100%;margin: 0;padding: 0;}&lt;/style&gt;\n",
       "    &lt;style&gt;#map {position:absolute;top:0;bottom:0;right:0;left:0;}&lt;/style&gt;\n",
       "    &lt;script src=&quot;https://cdn.jsdelivr.net/npm/leaflet@1.9.3/dist/leaflet.js&quot;&gt;&lt;/script&gt;\n",
       "    &lt;script src=&quot;https://code.jquery.com/jquery-1.12.4.min.js&quot;&gt;&lt;/script&gt;\n",
       "    &lt;script src=&quot;https://cdn.jsdelivr.net/npm/bootstrap@5.2.2/dist/js/bootstrap.bundle.min.js&quot;&gt;&lt;/script&gt;\n",
       "    &lt;script src=&quot;https://cdnjs.cloudflare.com/ajax/libs/Leaflet.awesome-markers/2.0.2/leaflet.awesome-markers.js&quot;&gt;&lt;/script&gt;\n",
       "    &lt;link rel=&quot;stylesheet&quot; href=&quot;https://cdn.jsdelivr.net/npm/leaflet@1.9.3/dist/leaflet.css&quot;/&gt;\n",
       "    &lt;link rel=&quot;stylesheet&quot; href=&quot;https://cdn.jsdelivr.net/npm/bootstrap@5.2.2/dist/css/bootstrap.min.css&quot;/&gt;\n",
       "    &lt;link rel=&quot;stylesheet&quot; href=&quot;https://netdna.bootstrapcdn.com/bootstrap/3.0.0/css/bootstrap.min.css&quot;/&gt;\n",
       "    &lt;link rel=&quot;stylesheet&quot; href=&quot;https://cdn.jsdelivr.net/npm/@fortawesome/fontawesome-free@6.2.0/css/all.min.css&quot;/&gt;\n",
       "    &lt;link rel=&quot;stylesheet&quot; href=&quot;https://cdnjs.cloudflare.com/ajax/libs/Leaflet.awesome-markers/2.0.2/leaflet.awesome-markers.css&quot;/&gt;\n",
       "    &lt;link rel=&quot;stylesheet&quot; href=&quot;https://cdn.jsdelivr.net/gh/python-visualization/folium/folium/templates/leaflet.awesome.rotate.min.css&quot;/&gt;\n",
       "    \n",
       "            &lt;meta name=&quot;viewport&quot; content=&quot;width=device-width,\n",
       "                initial-scale=1.0, maximum-scale=1.0, user-scalable=no&quot; /&gt;\n",
       "            &lt;style&gt;\n",
       "                #map_6b65a31431e73b58417e1de2ebcbf45a {\n",
       "                    position: relative;\n",
       "                    width: 100.0%;\n",
       "                    height: 100.0%;\n",
       "                    left: 0.0%;\n",
       "                    top: 0.0%;\n",
       "                }\n",
       "                .leaflet-container { font-size: 1rem; }\n",
       "            &lt;/style&gt;\n",
       "        \n",
       "&lt;/head&gt;\n",
       "&lt;body&gt;\n",
       "    \n",
       "    \n",
       "            &lt;div class=&quot;folium-map&quot; id=&quot;map_6b65a31431e73b58417e1de2ebcbf45a&quot; &gt;&lt;/div&gt;\n",
       "        \n",
       "&lt;/body&gt;\n",
       "&lt;script&gt;\n",
       "    \n",
       "    \n",
       "            var map_6b65a31431e73b58417e1de2ebcbf45a = L.map(\n",
       "                &quot;map_6b65a31431e73b58417e1de2ebcbf45a&quot;,\n",
       "                {\n",
       "                    center: [-22.9035, -43.2096],\n",
       "                    crs: L.CRS.EPSG3857,\n",
       "                    zoom: 7,\n",
       "                    zoomControl: true,\n",
       "                    preferCanvas: false,\n",
       "                }\n",
       "            );\n",
       "\n",
       "            \n",
       "\n",
       "        \n",
       "    \n",
       "            var tile_layer_abd101febcadd769a40a77819bca6481 = L.tileLayer(\n",
       "                &quot;https://{s}.tile.openstreetmap.org/{z}/{x}/{y}.png&quot;,\n",
       "                {&quot;attribution&quot;: &quot;Data by \\u0026copy; \\u003ca target=\\&quot;_blank\\&quot; href=\\&quot;http://openstreetmap.org\\&quot;\\u003eOpenStreetMap\\u003c/a\\u003e, under \\u003ca target=\\&quot;_blank\\&quot; href=\\&quot;http://www.openstreetmap.org/copyright\\&quot;\\u003eODbL\\u003c/a\\u003e.&quot;, &quot;detectRetina&quot;: false, &quot;maxNativeZoom&quot;: 18, &quot;maxZoom&quot;: 18, &quot;minZoom&quot;: 0, &quot;noWrap&quot;: false, &quot;opacity&quot;: 1, &quot;subdomains&quot;: &quot;abc&quot;, &quot;tms&quot;: false}\n",
       "            ).addTo(map_6b65a31431e73b58417e1de2ebcbf45a);\n",
       "        \n",
       "&lt;/script&gt;\n",
       "&lt;/html&gt;\" style=\"position:absolute;width:100%;height:100%;left:0;top:0;border:none !important;\" allowfullscreen webkitallowfullscreen mozallowfullscreen></iframe></div></div>"
      ],
      "text/plain": [
       "<folium.folium.Map at 0x7f0f5ac70310>"
      ]
     },
     "execution_count": 56,
     "metadata": {},
     "output_type": "execute_result"
    }
   ],
   "source": [
    "data_dict = json.loads(p)\n",
    "coord = []\n",
    "\n",
    "atributo = [\"wind_speed\",\"wind_direction\",\"temperature\"]\n",
    "nameAtributo = [\"Velocidade do vento\",\"direcao do vento\", \"temperatura\"]\n",
    "options =0\n",
    "\n",
    "for k in range(len(data_dict['features'])):\n",
    "  for t, valor in data_dict['features'][k]['properties'].items():\n",
    "      if(t == atributo[options]):\n",
    "          dado = valor\n",
    "      if (t == \"lat\"):\n",
    "            latitude= valor\n",
    "      if (t == \"lon\"):\n",
    "            longitude = valor\n",
    "  if(dado != None):\n",
    "    coord.append([latitude,longitude,dado])\n",
    "\n",
    "m = folium.Map(location=[-22.9035,-43.2096], zoom_start=7)\n",
    "for b in coord:\n",
    "  folium.Marker(\n",
    "    [b[0], b[1]], popup=\"<i>\"+nameAtributo[options]+\" é : \"+str(b[2])+\"</i>\", tooltip=\"É só clicar!\"\n",
    ").add_to(m)\n",
    "\n",
    "m\n",
    "\n"
   ]
  },
  {
   "cell_type": "markdown",
   "metadata": {},
   "source": [
    "# Teste"
   ]
  },
  {
   "cell_type": "code",
   "execution_count": 50,
   "metadata": {},
   "outputs": [],
   "source": [
    "from netCDF4 import Dataset\n",
    "import numpy as np\n",
    "\n",
    "def crop_full_disk(file_path, extent):\n",
    "    \"\"\"\n",
    "    Filter GLM events in a NetCDF file based on the provided coordinate bounds.\n",
    "\n",
    "    Parameters:\n",
    "        file_path (str): Path to the input NetCDF file.\n",
    "        lon_min (float): Minimum longitude of the bounding box.\n",
    "        lon_max (float): Maximum longitude of the bounding box.\n",
    "        lat_min (float): Minimum latitude of the bounding box.\n",
    "        lat_max (float): Maximum latitude of the bounding box.\n",
    "    \n",
    "    Returns:\n",
    "        Dataset: A new in-memory NetCDF Dataset object containing filtered data.\n",
    "    \"\"\"\n",
    "    try:\n",
    "        lon_min, lat_min, lon_max, lat_max = extent\n",
    "        \n",
    "        # Open the original NetCDF file in read mode\n",
    "        dataset = Dataset(file_path, 'r')\n",
    "        \n",
    "        # Get the longitude and latitude variables\n",
    "        longitudes = dataset.variables['flash_lon'][:]\n",
    "        latitudes = dataset.variables['flash_lat'][:]\n",
    "        \n",
    "        # Create a mask for the bounding box\n",
    "        mask = (\n",
    "            (longitudes >= lon_min) & (longitudes <= lon_max) &\n",
    "            (latitudes >= lat_min) & (latitudes <= lat_max)\n",
    "        )\n",
    "\n",
    "        # Create an in-memory NetCDF dataset for filtered data\n",
    "        filtered_dataset = Dataset('filtered_data.nc', 'w', format='NETCDF4', memory=True)\n",
    "        \n",
    "        # Copy global attributes\n",
    "        filtered_dataset.setncatts({attr: dataset.getncattr(attr) for attr in dataset.ncattrs()})\n",
    "        \n",
    "        # Copy dimensions\n",
    "        for dim_name, dim in dataset.dimensions.items():\n",
    "            filtered_dataset.createDimension(dim_name, len(dim) if not dim.isunlimited() else None)\n",
    "        \n",
    "        # Copy variables and apply the mask\n",
    "        for var_name, var in dataset.variables.items():\n",
    "            # Create the new variable in the filtered dataset\n",
    "            filtered_var = filtered_dataset.createVariable(var_name, var.datatype, var.dimensions)\n",
    "            \n",
    "            # Copy variable attributes\n",
    "            filtered_var.setncatts({attr: var.getncattr(attr) for attr in var.ncattrs()})\n",
    "            \n",
    "            # Apply the mask if the variable is related to flash events\n",
    "            if var_name in ['flash_lon', 'flash_lat']:\n",
    "                filtered_var[:] = var[:][mask]\n",
    "            elif 'event_id' in var.dimensions or 'flash_id' in var.dimensions:\n",
    "                filtered_var[:] = np.compress(mask, var[:], axis=0)\n",
    "            else:\n",
    "                filtered_var[:] = var[:]\n",
    "        \n",
    "        # Close the original dataset\n",
    "        dataset.close()\n",
    "        \n",
    "        # Return the filtered dataset\n",
    "        return filtered_dataset\n",
    "    \n",
    "    except Exception as e:\n",
    "        print(f\"An error occurred: {e}\")\n",
    "        return None\n"
   ]
  },
  {
   "cell_type": "code",
   "execution_count": 51,
   "metadata": {},
   "outputs": [],
   "source": [
    "lat_max, lon_max = (\n",
    "            -21.699774257353113,\n",
    "            -42.35676996062447,\n",
    ")  # canto superior direito\n",
    "lat_min, lon_min = (\n",
    "            -23.801876626302175,\n",
    "            -45.05290312102409,\n",
    ")  # canto inferior esquerdo\n",
    "extent = [lon_min, lat_min, lon_max, lat_max]\n",
    "\n",
    "file_name = \"../../data/goes16/glm/OR_GLM-L2-LCFA_G16_s20233220027200_e20233220027400_c20233220027419.nc\"\n",
    "# file_name = \"../../data/goes16/glm/OR_GLM-L2-LCFA_G16_s20233220000000_e20233220000200_c20233220000221.nc\"\n",
    "filtered_ds = crop_full_disk(file_name, extent)"
   ]
  },
  {
   "cell_type": "code",
   "execution_count": 67,
   "metadata": {},
   "outputs": [],
   "source": [
    "# ./downloads/OR_GLM-L2-LCFA_G16_s20240390111400_e20240390112000_c20240390112014.nc\n",
    "\n",
    "lat_max, lon_max = (\n",
    "            -21.699774257353113,\n",
    "            -42.35676996062447,\n",
    ")  # canto superior direito\n",
    "lat_min, lon_min = (\n",
    "            -23.801876626302175,\n",
    "            -45.05290312102409,\n",
    ")  # canto inferior esquerdo\n",
    "extent = [lon_min, lat_min, lon_max, lat_max]\n",
    "\n",
    "file_name = \"../../downloads/OR_GLM-L2-LCFA_G16_s20240390111400_e20240390112000_c20240390112014.nc\"\n",
    "filtered_ds = crop_full_disk(file_name, extent)"
   ]
  },
  {
   "cell_type": "code",
   "execution_count": 68,
   "metadata": {},
   "outputs": [
    {
     "data": {
      "image/png": "[encoded data removed]",
      "text/plain": [
       "<Figure size 1000x600 with 1 Axes>"
      ]
     },
     "metadata": {},
     "output_type": "display_data"
    }
   ],
   "source": [
    "import matplotlib.pyplot as plt\n",
    "\n",
    "def plot_filtered_dataset(filtered_dataset):\n",
    "    \"\"\"\n",
    "    Plot the filtered GLM events from the in-memory NetCDF dataset.\n",
    "    \n",
    "    Parameters:\n",
    "        filtered_dataset (Dataset): The filtered in-memory NetCDF dataset.\n",
    "    \"\"\"\n",
    "    try:\n",
    "        # Extract the filtered longitude and latitude variables\n",
    "        longitudes = filtered_dataset.variables['flash_lon'][:]\n",
    "        latitudes = filtered_dataset.variables['flash_lat'][:]\n",
    "\n",
    "        # Create a scatter plot\n",
    "        plt.figure(figsize=(10, 6))\n",
    "        plt.scatter(longitudes, latitudes, s=1, color='blue', alpha=0.6, label='GLM Events')\n",
    "\n",
    "        # Add labels, title, and legend\n",
    "        plt.xlabel(\"Longitude\")\n",
    "        plt.ylabel(\"Latitude\")\n",
    "        plt.title(\"Filtered GLM Flash Events\")\n",
    "        plt.legend()\n",
    "        plt.grid(True)\n",
    "        plt.show()\n",
    "\n",
    "    except Exception as e:\n",
    "        print(f\"An error occurred while plotting: {e}\")\n",
    "\n",
    "plot_filtered_dataset(filtered_ds)\n"
   ]
  },
  {
   "cell_type": "code",
   "execution_count": 69,
   "metadata": {},
   "outputs": [],
   "source": [
    "import cartopy.crs as ccrs\n",
    "import cartopy.feature as cfeature\n",
    "import matplotlib.pyplot as plt\n",
    "from netCDF4 import Dataset\n",
    "\n",
    "def plot_filtered_dataset(filtered_dataset, extent):\n",
    "    \"\"\"\n",
    "    Plot the filtered NetCDF dataset on a map.\n",
    "\n",
    "    Parameters:\n",
    "        filtered_dataset (Dataset): The in-memory filtered NetCDF dataset.\n",
    "        lon_min, lon_max, lat_min, lat_max: Geographic bounds for the map.\n",
    "    \"\"\"\n",
    "    \n",
    "    lon_min, lat_min, lon_max, lat_max = extent\n",
    "\n",
    "    # Extract filtered longitude and latitude\n",
    "    longitudes = filtered_dataset.variables['flash_lon'][:]\n",
    "    latitudes = filtered_dataset.variables['flash_lat'][:]\n",
    "\n",
    "    # Initialize the map\n",
    "    fig, ax = plt.subplots(figsize=(10, 8), \n",
    "                           subplot_kw={'projection': ccrs.PlateCarree()})\n",
    "\n",
    "    # Set map extent\n",
    "    ax.set_extent([lon_min, lon_max, lat_min, lat_max], crs=ccrs.PlateCarree())\n",
    "\n",
    "    # Add map features\n",
    "    ax.add_feature(cfeature.COASTLINE, linewidth=0.5)\n",
    "    ax.add_feature(cfeature.BORDERS, linestyle=':')\n",
    "    ax.add_feature(cfeature.LAND, edgecolor='black', facecolor='lightgray')\n",
    "    ax.add_feature(cfeature.LAKES, edgecolor='black', facecolor='lightblue')\n",
    "    # ax.add_feature(cfeature.RIVERS, edgecolor='blue')\n",
    "\n",
    "    # Plot the data points\n",
    "    sc = ax.scatter(longitudes, latitudes, c='red', s=5, alpha=0.7, transform=ccrs.PlateCarree())\n",
    "\n",
    "    # Add labels\n",
    "    plt.title(\"Filtered GLM Data\", fontsize=16)\n",
    "    plt.xlabel(\"Longitude\")\n",
    "    plt.ylabel(\"Latitude\")\n",
    "    plt.colorbar(sc, label='Flash Data Intensity')  # Optional: Customize this for specific data.\n",
    "\n",
    "    # Show the map\n",
    "    plt.show()\n"
   ]
  },
  {
   "cell_type": "code",
   "execution_count": 70,
   "metadata": {},
   "outputs": [
    {
     "data": {
      "image/png": "[encoded data removed]",
      "text/plain": [
       "<Figure size 1000x800 with 2 Axes>"
      ]
     },
     "metadata": {},
     "output_type": "display_data"
    }
   ],
   "source": [
    "# file_name = \"../../data/goes16/glm/OR_GLM-L2-LCFA_G16_s20233220027200_e20233220027400_c20233220027419.nc\"\n",
    "# filtered_ds = crop_full_disk(file_name, extent)\n",
    "plot_filtered_dataset(filtered_ds, extent)"
   ]
  },
  {
   "cell_type": "code",
   "execution_count": 71,
   "metadata": {},
   "outputs": [
    {
     "data": {
      "image/png": "[encoded data removed]",
      "text/plain": [
       "<Figure size 1000x800 with 2 Axes>"
      ]
     },
     "metadata": {},
     "output_type": "display_data"
    }
   ],
   "source": [
    "import cartopy.crs as ccrs\n",
    "import cartopy.feature as cfeature\n",
    "import matplotlib.pyplot as plt\n",
    "from netCDF4 import Dataset\n",
    "\n",
    "def plot_filtered_dataset(filtered_dataset, extent):\n",
    "    \"\"\"\n",
    "    Plot the filtered NetCDF dataset on a map and include the file timestamp.\n",
    "\n",
    "    Parameters:\n",
    "        filtered_dataset (Dataset): The in-memory filtered NetCDF dataset.\n",
    "        lon_min, lon_max, lat_min, lat_max: Geographic bounds for the map.\n",
    "    \"\"\"\n",
    "\n",
    "    lon_min, lat_min, lon_max, lat_max = extent\n",
    "\n",
    "    # Extract filtered longitude and latitude\n",
    "    longitudes = filtered_dataset.variables['flash_lon'][:]\n",
    "    latitudes = filtered_dataset.variables['flash_lat'][:]\n",
    "\n",
    "    # Extract timestamp from the dataset's global attributes\n",
    "    timestamp = filtered_dataset.getncattr('time_coverage_start')  # Example global attribute\n",
    "    timestamp_formatted = timestamp.replace('T', ' ').replace('Z', '')  # Format timestamp\n",
    "    \n",
    "    # Initialize the map\n",
    "    fig, ax = plt.subplots(figsize=(10, 8), \n",
    "                           subplot_kw={'projection': ccrs.PlateCarree()})\n",
    "\n",
    "    # Set map extent\n",
    "    ax.set_extent([lon_min, lon_max, lat_min, lat_max], crs=ccrs.PlateCarree())\n",
    "\n",
    "    # Add map features\n",
    "    ax.add_feature(cfeature.COASTLINE, linewidth=0.5)\n",
    "    ax.add_feature(cfeature.BORDERS, linestyle=':')\n",
    "    ax.add_feature(cfeature.LAND, edgecolor='black', facecolor='lightgray')\n",
    "    ax.add_feature(cfeature.LAKES, edgecolor='black', facecolor='lightblue')\n",
    "    ax.add_feature(cfeature.RIVERS, edgecolor='blue')\n",
    "\n",
    "    # Plot the data points\n",
    "    sc = ax.scatter(longitudes, latitudes, c='red', s=5, alpha=0.7, transform=ccrs.PlateCarree())\n",
    "\n",
    "    # Add labels and timestamp\n",
    "    plt.title(\"Filtered GLM Data\", fontsize=16)\n",
    "    plt.xlabel(\"Longitude\")\n",
    "    plt.ylabel(\"Latitude\")\n",
    "    plt.colorbar(sc, label='Flash Data Intensity')  # Optional: Customize this for specific data.\n",
    "\n",
    "    # Add timestamp to the plot\n",
    "    plt.annotate(f\"Timestamp: {timestamp_formatted}\",\n",
    "                 xy=(0.05, 0.02), xycoords='figure fraction',\n",
    "                 fontsize=10, color='blue', backgroundcolor='white')\n",
    "\n",
    "    # Show the map\n",
    "    plt.show()\n",
    "\n",
    "plot_filtered_dataset(filtered_ds, extent)"
   ]
  }
 ],
 "metadata": {
  "colab": {
   "provenance": [],
   "toc_visible": true
  },
  "kernelspec": {
   "display_name": "atmoseer",
   "language": "python",
   "name": "python3"
  },
  "language_info": {
   "codemirror_mode": {
    "name": "ipython",
    "version": 3
   },
   "file_extension": ".py",
   "mimetype": "text/x-python",
   "name": "python",
   "nbconvert_exporter": "python",
   "pygments_lexer": "ipython3",
   "version": "3.10.12"
  }
 },
 "nbformat": 4,
 "nbformat_minor": 0
}
