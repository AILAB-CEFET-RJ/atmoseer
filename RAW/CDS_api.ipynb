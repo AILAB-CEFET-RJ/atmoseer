{
  "cells": [
    {
      "cell_type": "code",
      "execution_count": 1,
      "metadata": {
        "colab": {
          "base_uri": "https://localhost:8080/"
        },
        "id": "slWqYqd0DnjW",
        "outputId": "f439d653-f09a-4aa6-9b97-4520c1031283"
      },
      "outputs": [
        {
          "name": "stdout",
          "output_type": "stream",
          "text": [
            "Requirement already satisfied: cdsapi in c:\\users\\pedro\\appdata\\local\\packages\\pythonsoftwarefoundation.python.3.10_qbz5n2kfra8p0\\localcache\\local-packages\\python310\\site-packages (0.5.1)\n",
            "Requirement already satisfied: requests>=2.5.0 in c:\\users\\pedro\\appdata\\local\\packages\\pythonsoftwarefoundation.python.3.10_qbz5n2kfra8p0\\localcache\\local-packages\\python310\\site-packages (from cdsapi) (2.27.1)\n",
            "Requirement already satisfied: tqdm in c:\\users\\pedro\\appdata\\local\\packages\\pythonsoftwarefoundation.python.3.10_qbz5n2kfra8p0\\localcache\\local-packages\\python310\\site-packages (from cdsapi) (4.64.0)\n",
            "Requirement already satisfied: urllib3<1.27,>=1.21.1 in c:\\users\\pedro\\appdata\\local\\packages\\pythonsoftwarefoundation.python.3.10_qbz5n2kfra8p0\\localcache\\local-packages\\python310\\site-packages (from requests>=2.5.0->cdsapi) (1.26.9)\n",
            "Requirement already satisfied: certifi>=2017.4.17 in c:\\users\\pedro\\appdata\\local\\packages\\pythonsoftwarefoundation.python.3.10_qbz5n2kfra8p0\\localcache\\local-packages\\python310\\site-packages (from requests>=2.5.0->cdsapi) (2022.5.18.1)\n",
            "Requirement already satisfied: idna<4,>=2.5 in c:\\users\\pedro\\appdata\\local\\packages\\pythonsoftwarefoundation.python.3.10_qbz5n2kfra8p0\\localcache\\local-packages\\python310\\site-packages (from requests>=2.5.0->cdsapi) (3.3)\n",
            "Requirement already satisfied: charset-normalizer~=2.0.0 in c:\\users\\pedro\\appdata\\local\\packages\\pythonsoftwarefoundation.python.3.10_qbz5n2kfra8p0\\localcache\\local-packages\\python310\\site-packages (from requests>=2.5.0->cdsapi) (2.0.12)\n",
            "Requirement already satisfied: colorama in c:\\users\\pedro\\appdata\\local\\packages\\pythonsoftwarefoundation.python.3.10_qbz5n2kfra8p0\\localcache\\local-packages\\python310\\site-packages (from tqdm->cdsapi) (0.4.4)\n"
          ]
        },
        {
          "name": "stderr",
          "output_type": "stream",
          "text": [
            "\n",
            "[notice] A new release of pip available: 22.2.2 -> 22.3\n",
            "[notice] To update, run: C:\\Users\\pedro\\AppData\\Local\\Microsoft\\WindowsApps\\PythonSoftwareFoundation.Python.3.10_qbz5n2kfra8p0\\python.exe -m pip install --upgrade pip\n"
          ]
        }
      ],
      "source": [
        "!pip install cdsapi"
      ]
    },
    {
      "cell_type": "code",
      "execution_count": 2,
      "metadata": {
        "colab": {
          "base_uri": "https://localhost:8080/"
        },
        "id": "rYTGXU1019xh",
        "outputId": "90dbb54b-e906-46f9-e4b2-0b08a014b2e6"
      },
      "outputs": [
        {
          "name": "stdout",
          "output_type": "stream",
          "text": [
            "Collecting pygrib\n",
            "  Using cached pygrib-2.1.4.tar.gz (21.8 MB)\n",
            "  Installing build dependencies: started\n",
            "  Installing build dependencies: finished with status 'done'\n",
            "  Getting requirements to build wheel: started\n",
            "  Getting requirements to build wheel: finished with status 'done'\n",
            "  Preparing metadata (pyproject.toml): started\n",
            "  Preparing metadata (pyproject.toml): finished with status 'done'\n",
            "Requirement already satisfied: pyproj in c:\\users\\pedro\\appdata\\local\\packages\\pythonsoftwarefoundation.python.3.10_qbz5n2kfra8p0\\localcache\\local-packages\\python310\\site-packages (from pygrib) (3.3.1)\n",
            "Requirement already satisfied: numpy in c:\\users\\pedro\\appdata\\local\\packages\\pythonsoftwarefoundation.python.3.10_qbz5n2kfra8p0\\localcache\\local-packages\\python310\\site-packages (from pygrib) (1.23.3)\n",
            "Requirement already satisfied: certifi in c:\\users\\pedro\\appdata\\local\\packages\\pythonsoftwarefoundation.python.3.10_qbz5n2kfra8p0\\localcache\\local-packages\\python310\\site-packages (from pyproj->pygrib) (2022.5.18.1)\n",
            "Building wheels for collected packages: pygrib\n",
            "  Building wheel for pygrib (pyproject.toml): started\n",
            "  Building wheel for pygrib (pyproject.toml): finished with status 'error'\n",
            "Failed to build pygrib\n"
          ]
        },
        {
          "name": "stderr",
          "output_type": "stream",
          "text": [
            "  error: subprocess-exited-with-error\n",
            "  \n",
            "  × Building wheel for pygrib (pyproject.toml) did not run successfully.\n",
            "  │ exit code: 1\n",
            "  ╰─> [22 lines of output]\n",
            "      eccodes not found, build may fail...\n",
            "      running bdist_wheel\n",
            "      running build\n",
            "      running build_py\n",
            "      creating build\n",
            "      creating build\\lib.win-amd64-cpython-310\n",
            "      creating build\\lib.win-amd64-cpython-310\\pygrib\n",
            "      copying src\\pygrib\\__init__.py -> build\\lib.win-amd64-cpython-310\\pygrib\n",
            "      running build_ext\n",
            "      cythoning src/pygrib/_pygrib.pyx to src/pygrib\\_pygrib.c\n",
            "      C:\\Users\\pedro\\AppData\\Local\\Temp\\pip-build-env-pdpzj8wm\\overlay\\Lib\\site-packages\\Cython\\Compiler\\Main.py:369: FutureWarning: Cython directive 'language_level' not set, using 2 for now (Py2). This will change in a later release! File: C:\\Users\\pedro\\AppData\\Local\\Temp\\pip-install-vvjqp87l\\pygrib_17b24011e0d64965a45563f40ba2770a\\src\\pygrib\\_pygrib.pyx\n",
            "        tree = Parsing.p_module(s, pxd, full_module_name)\n",
            "      building 'pygrib._pygrib' extension\n",
            "      creating build\\temp.win-amd64-cpython-310\n",
            "      creating build\\temp.win-amd64-cpython-310\\Release\n",
            "      creating build\\temp.win-amd64-cpython-310\\Release\\src\n",
            "      creating build\\temp.win-amd64-cpython-310\\Release\\src\\pygrib\n",
            "      \"C:\\Program Files (x86)\\Microsoft Visual Studio\\2019\\Community\\VC\\Tools\\MSVC\\14.29.30133\\bin\\HostX86\\x64\\cl.exe\" /c /nologo /O2 /W3 /GL /DNDEBUG /MD \"-IC:\\Program Files\\WindowsApps\\PythonSoftwareFoundation.Python.3.10_3.10.2288.0_x64__qbz5n2kfra8p0\\include\" \"-IC:\\Program Files\\WindowsApps\\PythonSoftwareFoundation.Python.3.10_3.10.2288.0_x64__qbz5n2kfra8p0\\Include\" -IC:\\Users\\pedro\\AppData\\Local\\Temp\\pip-build-env-pdpzj8wm\\overlay\\Lib\\site-packages\\numpy\\core\\include \"-IC:\\Program Files (x86)\\Microsoft Visual Studio\\2019\\Community\\VC\\Tools\\MSVC\\14.29.30133\\include\" \"-IC:\\Program Files (x86)\\Windows Kits\\10\\include\\10.0.16299.0\\ucrt\" \"-IC:\\Program Files (x86)\\Windows Kits\\10\\include\\10.0.16299.0\\shared\" \"-IC:\\Program Files (x86)\\Windows Kits\\10\\include\\10.0.16299.0\\um\" \"-IC:\\Program Files (x86)\\Windows Kits\\10\\include\\10.0.16299.0\\winrt\" \"-IC:\\Program Files (x86)\\Windows Kits\\10\\include\\10.0.16299.0\\cppwinrt\" /Tcsrc/pygrib\\_pygrib.c /Fobuild\\temp.win-amd64-cpython-310\\Release\\src/pygrib\\_pygrib.obj\n",
            "      _pygrib.c\n",
            "      C:\\Users\\pedro\\AppData\\Local\\Temp\\pip-build-env-pdpzj8wm\\overlay\\Lib\\site-packages\\numpy\\core\\include\\numpy\\npy_1_7_deprecated_api.h(14) : Warning Msg: Using deprecated NumPy API, disable it with #define NPY_NO_DEPRECATED_API NPY_1_7_API_VERSION\n",
            "      src/pygrib\\_pygrib.c(756): fatal error C1083: NÆo ‚ poss¡vel abrir arquivo incluir: 'grib_api.h': No such file or directory\n",
            "      error: command 'C:\\\\Program Files (x86)\\\\Microsoft Visual Studio\\\\2019\\\\Community\\\\VC\\\\Tools\\\\MSVC\\\\14.29.30133\\\\bin\\\\HostX86\\\\x64\\\\cl.exe' failed with exit code 2\n",
            "      [end of output]\n",
            "  \n",
            "  note: This error originates from a subprocess, and is likely not a problem with pip.\n",
            "  ERROR: Failed building wheel for pygrib\n",
            "ERROR: Could not build wheels for pygrib, which is required to install pyproject.toml-based projects\n",
            "\n",
            "[notice] A new release of pip available: 22.2.2 -> 22.3\n",
            "[notice] To update, run: C:\\Users\\pedro\\AppData\\Local\\Microsoft\\WindowsApps\\PythonSoftwareFoundation.Python.3.10_qbz5n2kfra8p0\\python.exe -m pip install --upgrade pip\n"
          ]
        },
        {
          "name": "stdout",
          "output_type": "stream",
          "text": [
            "Requirement already satisfied: eccodes in c:\\users\\pedro\\appdata\\local\\packages\\pythonsoftwarefoundation.python.3.10_qbz5n2kfra8p0\\localcache\\local-packages\\python310\\site-packages (1.5.0)\n",
            "Requirement already satisfied: numpy in c:\\users\\pedro\\appdata\\local\\packages\\pythonsoftwarefoundation.python.3.10_qbz5n2kfra8p0\\localcache\\local-packages\\python310\\site-packages (from eccodes) (1.23.3)\n",
            "Requirement already satisfied: attrs in c:\\users\\pedro\\appdata\\local\\packages\\pythonsoftwarefoundation.python.3.10_qbz5n2kfra8p0\\localcache\\local-packages\\python310\\site-packages (from eccodes) (22.1.0)\n",
            "Requirement already satisfied: cffi in c:\\users\\pedro\\appdata\\local\\packages\\pythonsoftwarefoundation.python.3.10_qbz5n2kfra8p0\\localcache\\local-packages\\python310\\site-packages (from eccodes) (1.15.1)\n",
            "Requirement already satisfied: findlibs in c:\\users\\pedro\\appdata\\local\\packages\\pythonsoftwarefoundation.python.3.10_qbz5n2kfra8p0\\localcache\\local-packages\\python310\\site-packages (from eccodes) (0.0.2)\n",
            "Requirement already satisfied: pycparser in c:\\users\\pedro\\appdata\\local\\packages\\pythonsoftwarefoundation.python.3.10_qbz5n2kfra8p0\\localcache\\local-packages\\python310\\site-packages (from cffi->eccodes) (2.21)\n"
          ]
        },
        {
          "name": "stderr",
          "output_type": "stream",
          "text": [
            "\n",
            "[notice] A new release of pip available: 22.2.2 -> 22.3\n",
            "[notice] To update, run: C:\\Users\\pedro\\AppData\\Local\\Microsoft\\WindowsApps\\PythonSoftwareFoundation.Python.3.10_qbz5n2kfra8p0\\python.exe -m pip install --upgrade pip\n"
          ]
        },
        {
          "name": "stdout",
          "output_type": "stream",
          "text": [
            "Requirement already satisfied: cfgrib in c:\\users\\pedro\\appdata\\local\\packages\\pythonsoftwarefoundation.python.3.10_qbz5n2kfra8p0\\localcache\\local-packages\\python310\\site-packages (0.9.10.1)\n",
            "Requirement already satisfied: eccodes>=0.9.8 in c:\\users\\pedro\\appdata\\local\\packages\\pythonsoftwarefoundation.python.3.10_qbz5n2kfra8p0\\localcache\\local-packages\\python310\\site-packages (from cfgrib) (1.5.0)\n",
            "Requirement already satisfied: attrs>=19.2 in c:\\users\\pedro\\appdata\\local\\packages\\pythonsoftwarefoundation.python.3.10_qbz5n2kfra8p0\\localcache\\local-packages\\python310\\site-packages (from cfgrib) (22.1.0)\n",
            "Requirement already satisfied: click in c:\\users\\pedro\\appdata\\local\\packages\\pythonsoftwarefoundation.python.3.10_qbz5n2kfra8p0\\localcache\\local-packages\\python310\\site-packages (from cfgrib) (7.1.2)\n",
            "Requirement already satisfied: numpy in c:\\users\\pedro\\appdata\\local\\packages\\pythonsoftwarefoundation.python.3.10_qbz5n2kfra8p0\\localcache\\local-packages\\python310\\site-packages (from cfgrib) (1.23.3)\n",
            "Requirement already satisfied: cffi in c:\\users\\pedro\\appdata\\local\\packages\\pythonsoftwarefoundation.python.3.10_qbz5n2kfra8p0\\localcache\\local-packages\\python310\\site-packages (from eccodes>=0.9.8->cfgrib) (1.15.1)\n",
            "Requirement already satisfied: findlibs in c:\\users\\pedro\\appdata\\local\\packages\\pythonsoftwarefoundation.python.3.10_qbz5n2kfra8p0\\localcache\\local-packages\\python310\\site-packages (from eccodes>=0.9.8->cfgrib) (0.0.2)\n",
            "Requirement already satisfied: pycparser in c:\\users\\pedro\\appdata\\local\\packages\\pythonsoftwarefoundation.python.3.10_qbz5n2kfra8p0\\localcache\\local-packages\\python310\\site-packages (from cffi->eccodes>=0.9.8->cfgrib) (2.21)\n"
          ]
        },
        {
          "name": "stderr",
          "output_type": "stream",
          "text": [
            "\n",
            "[notice] A new release of pip available: 22.2.2 -> 22.3\n",
            "[notice] To update, run: C:\\Users\\pedro\\AppData\\Local\\Microsoft\\WindowsApps\\PythonSoftwareFoundation.Python.3.10_qbz5n2kfra8p0\\python.exe -m pip install --upgrade pip\n"
          ]
        }
      ],
      "source": [
        "!pip install pygrib\n",
        "!pip install eccodes\n",
        "!pip install cfgrib"
      ]
    },
    {
      "cell_type": "code",
      "execution_count": null,
      "metadata": {
        "colab": {
          "base_uri": "https://localhost:8080/"
        },
        "id": "c3522nyIEreu",
        "outputId": "b4871522-3532-4be9-e776-212b240dcf1c"
      },
      "outputs": [
        {
          "name": "stderr",
          "output_type": "stream",
          "text": []
        },
        {
          "data": {
            "text/plain": [
              "Result(content_length=25228800,content_type=application/x-grib,location=https://download-0019.copernicus-climate.eu/cache-compute-0019/cache/data9/adaptor.mars.internal-1662908854.3426495-7150-5-624819fa-cc6a-4f77-81b3-9e2d33a85eac.grib)"
            ]
          },
          "execution_count": 9,
          "metadata": {},
          "output_type": "execute_result"
        }
      ],
      "source": [
        "import cdsapi\n",
        "\n",
        "c = cdsapi.Client()\n",
        "\n",
        "c.retrieve(\n",
        "    'reanalysis-era5-pressure-levels',\n",
        "    {\n",
        "        'product_type': 'reanalysis',\n",
        "        'format': 'grib',\n",
        "        'variable': [\n",
        "            'geopotential', 'relative_humidity', 'specific_humidity',\n",
        "            'temperature', 'u_component_of_wind', 'v_component_of_wind',\n",
        "        ],\n",
        "        'pressure_level': [\n",
        "            '300', '900',\n",
        "        ],\n",
        "        'year': [\n",
        "            '2021'\n",
        "        ],\n",
        "        'month': [\n",
        "            '01', '02', '03',\n",
        "            '04', '05', '06',\n",
        "            '07', '08', '09',\n",
        "            '10', '11', '12',\n",
        "        ],\n",
        "        'day': [\n",
        "            '01', '02', '03',\n",
        "            '04', '05', '06',\n",
        "            '07', '08', '09',\n",
        "            '10', '11', '12',\n",
        "            '13', '14', '15',\n",
        "            '16', '17', '18',\n",
        "            '19', '20', '21',\n",
        "            '22', '23', '24',\n",
        "            '25', '26', '27',\n",
        "            '28', '29', '30',\n",
        "            '31',\n",
        "        ],\n",
        "        'time': [\n",
        "            '00:00', '01:00', '02:00',\n",
        "            '03:00', '04:00', '05:00',\n",
        "            '06:00', '07:00', '08:00',\n",
        "            '09:00', '10:00', '11:00',\n",
        "            '12:00', '13:00', '14:00',\n",
        "            '15:00', '16:00', '17:00',\n",
        "            '18:00', '19:00', '20:00',\n",
        "            '21:00', '22:00', '23:00',\n",
        "        ],\n",
        "        'area': [\n",
        "            -22, -44, -23,\n",
        "            -42,\n",
        "        ],\n",
        "    },\n",
        "    'download.grib')"
      ]
    },
    {
      "cell_type": "code",
      "execution_count": 70,
      "metadata": {
        "colab": {
          "base_uri": "https://localhost:8080/"
        },
        "id": "-nO6HT2ulvjz",
        "outputId": "925d034c-efe4-43f8-f2c5-d207aac1740a"
      },
      "outputs": [
        {
          "name": "stdout",
          "output_type": "stream",
          "text": [
            "Looking in indexes: https://pypi.org/simple, https://us-python.pkg.dev/colab-wheels/public/simple/\n",
            "Requirement already satisfied: xarray[cfgrib] in /usr/local/lib/python3.7/dist-packages (0.20.2)\n",
            "\u001b[33mWARNING: xarray 0.20.2 does not provide the extra 'cfgrib'\u001b[0m\n",
            "Requirement already satisfied: pandas>=1.1 in /usr/local/lib/python3.7/dist-packages (from xarray[cfgrib]) (1.3.5)\n",
            "Requirement already satisfied: importlib-metadata in /usr/local/lib/python3.7/dist-packages (from xarray[cfgrib]) (4.12.0)\n",
            "Requirement already satisfied: typing-extensions>=3.7 in /usr/local/lib/python3.7/dist-packages (from xarray[cfgrib]) (4.1.1)\n",
            "Requirement already satisfied: numpy>=1.18 in /usr/local/lib/python3.7/dist-packages (from xarray[cfgrib]) (1.21.6)\n",
            "Requirement already satisfied: python-dateutil>=2.7.3 in /usr/local/lib/python3.7/dist-packages (from pandas>=1.1->xarray[cfgrib]) (2.8.2)\n",
            "Requirement already satisfied: pytz>=2017.3 in /usr/local/lib/python3.7/dist-packages (from pandas>=1.1->xarray[cfgrib]) (2022.2.1)\n",
            "Requirement already satisfied: six>=1.5 in /usr/local/lib/python3.7/dist-packages (from python-dateutil>=2.7.3->pandas>=1.1->xarray[cfgrib]) (1.15.0)\n",
            "Requirement already satisfied: zipp>=0.5 in /usr/local/lib/python3.7/dist-packages (from importlib-metadata->xarray[cfgrib]) (3.8.1)\n"
          ]
        }
      ],
      "source": [
        "!pip install xarray[io]"
      ]
    },
    {
      "cell_type": "code",
      "execution_count": 13,
      "metadata": {},
      "outputs": [
        {
          "name": "stdout",
          "output_type": "stream",
          "text": [
            "Collecting pygrib\n",
            "  Using cached pygrib-2.1.4.tar.gz (21.8 MB)\n",
            "  Installing build dependencies: started\n",
            "  Installing build dependencies: finished with status 'done'\n",
            "  Getting requirements to build wheel: started\n",
            "  Getting requirements to build wheel: finished with status 'done'\n",
            "  Preparing metadata (pyproject.toml): started\n",
            "  Preparing metadata (pyproject.toml): finished with status 'done'\n",
            "Requirement already satisfied: pyproj in c:\\users\\pedro\\appdata\\local\\packages\\pythonsoftwarefoundation.python.3.10_qbz5n2kfra8p0\\localcache\\local-packages\\python310\\site-packages (from pygrib) (3.3.1)\n",
            "Requirement already satisfied: numpy in c:\\users\\pedro\\appdata\\local\\packages\\pythonsoftwarefoundation.python.3.10_qbz5n2kfra8p0\\localcache\\local-packages\\python310\\site-packages (from pygrib) (1.23.3)\n",
            "Requirement already satisfied: certifi in c:\\users\\pedro\\appdata\\local\\packages\\pythonsoftwarefoundation.python.3.10_qbz5n2kfra8p0\\localcache\\local-packages\\python310\\site-packages (from pyproj->pygrib) (2022.5.18.1)\n",
            "Building wheels for collected packages: pygrib\n",
            "  Building wheel for pygrib (pyproject.toml): started\n",
            "  Building wheel for pygrib (pyproject.toml): finished with status 'error'\n",
            "Failed to build pygrib\n"
          ]
        },
        {
          "name": "stderr",
          "output_type": "stream",
          "text": [
            "  error: subprocess-exited-with-error\n",
            "  \n",
            "  × Building wheel for pygrib (pyproject.toml) did not run successfully.\n",
            "  │ exit code: 1\n",
            "  ╰─> [22 lines of output]\n",
            "      eccodes not found, build may fail...\n",
            "      running bdist_wheel\n",
            "      running build\n",
            "      running build_py\n",
            "      creating build\n",
            "      creating build\\lib.win-amd64-cpython-310\n",
            "      creating build\\lib.win-amd64-cpython-310\\pygrib\n",
            "      copying src\\pygrib\\__init__.py -> build\\lib.win-amd64-cpython-310\\pygrib\n",
            "      running build_ext\n",
            "      cythoning src/pygrib/_pygrib.pyx to src/pygrib\\_pygrib.c\n",
            "      C:\\Users\\pedro\\AppData\\Local\\Temp\\pip-build-env-4h8ib4g5\\overlay\\Lib\\site-packages\\Cython\\Compiler\\Main.py:369: FutureWarning: Cython directive 'language_level' not set, using 2 for now (Py2). This will change in a later release! File: C:\\Users\\pedro\\AppData\\Local\\Temp\\pip-install-4lsnqv5j\\pygrib_ced5749cfa7b44fe81ed77409a34407c\\src\\pygrib\\_pygrib.pyx\n",
            "        tree = Parsing.p_module(s, pxd, full_module_name)\n",
            "      building 'pygrib._pygrib' extension\n",
            "      creating build\\temp.win-amd64-cpython-310\n",
            "      creating build\\temp.win-amd64-cpython-310\\Release\n",
            "      creating build\\temp.win-amd64-cpython-310\\Release\\src\n",
            "      creating build\\temp.win-amd64-cpython-310\\Release\\src\\pygrib\n",
            "      \"C:\\Program Files (x86)\\Microsoft Visual Studio\\2019\\Community\\VC\\Tools\\MSVC\\14.29.30133\\bin\\HostX86\\x64\\cl.exe\" /c /nologo /O2 /W3 /GL /DNDEBUG /MD \"-IC:\\Program Files\\WindowsApps\\PythonSoftwareFoundation.Python.3.10_3.10.2288.0_x64__qbz5n2kfra8p0\\include\" \"-IC:\\Program Files\\WindowsApps\\PythonSoftwareFoundation.Python.3.10_3.10.2288.0_x64__qbz5n2kfra8p0\\Include\" -IC:\\Users\\pedro\\AppData\\Local\\Temp\\pip-build-env-4h8ib4g5\\overlay\\Lib\\site-packages\\numpy\\core\\include \"-IC:\\Program Files (x86)\\Microsoft Visual Studio\\2019\\Community\\VC\\Tools\\MSVC\\14.29.30133\\include\" \"-IC:\\Program Files (x86)\\Windows Kits\\10\\include\\10.0.16299.0\\ucrt\" \"-IC:\\Program Files (x86)\\Windows Kits\\10\\include\\10.0.16299.0\\shared\" \"-IC:\\Program Files (x86)\\Windows Kits\\10\\include\\10.0.16299.0\\um\" \"-IC:\\Program Files (x86)\\Windows Kits\\10\\include\\10.0.16299.0\\winrt\" \"-IC:\\Program Files (x86)\\Windows Kits\\10\\include\\10.0.16299.0\\cppwinrt\" /Tcsrc/pygrib\\_pygrib.c /Fobuild\\temp.win-amd64-cpython-310\\Release\\src/pygrib\\_pygrib.obj\n",
            "      _pygrib.c\n",
            "      C:\\Users\\pedro\\AppData\\Local\\Temp\\pip-build-env-4h8ib4g5\\overlay\\Lib\\site-packages\\numpy\\core\\include\\numpy\\npy_1_7_deprecated_api.h(14) : Warning Msg: Using deprecated NumPy API, disable it with #define NPY_NO_DEPRECATED_API NPY_1_7_API_VERSION\n",
            "      src/pygrib\\_pygrib.c(756): fatal error C1083: NÆo ‚ poss¡vel abrir arquivo incluir: 'grib_api.h': No such file or directory\n",
            "      error: command 'C:\\\\Program Files (x86)\\\\Microsoft Visual Studio\\\\2019\\\\Community\\\\VC\\\\Tools\\\\MSVC\\\\14.29.30133\\\\bin\\\\HostX86\\\\x64\\\\cl.exe' failed with exit code 2\n",
            "      [end of output]\n",
            "  \n",
            "  note: This error originates from a subprocess, and is likely not a problem with pip.\n",
            "  ERROR: Failed building wheel for pygrib\n",
            "ERROR: Could not build wheels for pygrib, which is required to install pyproject.toml-based projects\n",
            "\n",
            "[notice] A new release of pip available: 22.2.2 -> 22.3\n",
            "[notice] To update, run: C:\\Users\\pedro\\AppData\\Local\\Microsoft\\WindowsApps\\PythonSoftwareFoundation.Python.3.10_qbz5n2kfra8p0\\python.exe -m pip install --upgrade pip\n"
          ]
        }
      ],
      "source": [
        "!pip install pygrib"
      ]
    },
    {
      "cell_type": "code",
      "execution_count": 14,
      "metadata": {
        "colab": {
          "base_uri": "https://localhost:8080/",
          "height": 415
        },
        "id": "xF2aJBHHbfSV",
        "outputId": "0a212615-a815-4e64-e266-38e3549b4f52"
      },
      "outputs": [
        {
          "ename": "ModuleNotFoundError",
          "evalue": "No module named 'pygrib'",
          "output_type": "error",
          "traceback": [
            "\u001b[1;31m---------------------------------------------------------------------------\u001b[0m",
            "\u001b[1;31mModuleNotFoundError\u001b[0m                       Traceback (most recent call last)",
            "\u001b[1;32md:\\Documentos\\GitHub\\atmoseer\\RAW\\CDS_api.ipynb Célula: 6\u001b[0m in \u001b[0;36m<cell line: 3>\u001b[1;34m()\u001b[0m\n\u001b[0;32m      <a href='vscode-notebook-cell:/d%3A/Documentos/GitHub/atmoseer/RAW/CDS_api.ipynb#W4sZmlsZQ%3D%3D?line=0'>1</a>\u001b[0m \u001b[39mimport\u001b[39;00m \u001b[39mmatplotlib\u001b[39;00m\u001b[39m.\u001b[39;00m\u001b[39mpyplot\u001b[39;00m \u001b[39mas\u001b[39;00m \u001b[39mplt\u001b[39;00m\n\u001b[0;32m      <a href='vscode-notebook-cell:/d%3A/Documentos/GitHub/atmoseer/RAW/CDS_api.ipynb#W4sZmlsZQ%3D%3D?line=1'>2</a>\u001b[0m \u001b[39mfrom\u001b[39;00m \u001b[39mcollections\u001b[39;00m\u001b[39m.\u001b[39;00m\u001b[39mabc\u001b[39;00m \u001b[39mimport\u001b[39;00m Mapping\n\u001b[1;32m----> <a href='vscode-notebook-cell:/d%3A/Documentos/GitHub/atmoseer/RAW/CDS_api.ipynb#W4sZmlsZQ%3D%3D?line=2'>3</a>\u001b[0m \u001b[39mimport\u001b[39;00m \u001b[39mpygrib\u001b[39;00m\n\u001b[0;32m      <a href='vscode-notebook-cell:/d%3A/Documentos/GitHub/atmoseer/RAW/CDS_api.ipynb#W4sZmlsZQ%3D%3D?line=4'>5</a>\u001b[0m file \u001b[39m=\u001b[39m \u001b[39m\"\u001b[39m\u001b[39m../data/ERA-5/download.grib\u001b[39m\u001b[39m\"\u001b[39m \u001b[39m#example filename\u001b[39;00m\n\u001b[0;32m      <a href='vscode-notebook-cell:/d%3A/Documentos/GitHub/atmoseer/RAW/CDS_api.ipynb#W4sZmlsZQ%3D%3D?line=6'>7</a>\u001b[0m gr \u001b[39m=\u001b[39m pygrib\u001b[39m.\u001b[39mopen(file)\n",
            "\u001b[1;31mModuleNotFoundError\u001b[0m: No module named 'pygrib'"
          ]
        }
      ],
      "source": [
        "import matplotlib.pyplot as plt\n",
        "from collections.abc import Mapping\n",
        "import pygrib\n",
        "\n",
        "file = \"../data/ERA-5/download.grib\" #example filename\n",
        "\n",
        "gr = pygrib.open(file)\n",
        "grib_data = gr.select()[0]\n",
        "data = gr.values"
      ]
    },
    {
      "cell_type": "code",
      "execution_count": 4,
      "metadata": {},
      "outputs": [
        {
          "ename": "ModuleNotFoundError",
          "evalue": "No module named 'pygrib'",
          "output_type": "error",
          "traceback": [
            "\u001b[1;31m---------------------------------------------------------------------------\u001b[0m",
            "\u001b[1;31mModuleNotFoundError\u001b[0m                       Traceback (most recent call last)",
            "\u001b[1;32md:\\Programacao\\TCC\\CDS_api.ipynb Célula: 6\u001b[0m in \u001b[0;36m<cell line: 1>\u001b[1;34m()\u001b[0m\n\u001b[1;32m----> <a href='vscode-notebook-cell:/d%3A/Programacao/TCC/CDS_api.ipynb#W5sZmlsZQ%3D%3D?line=0'>1</a>\u001b[0m \u001b[39mimport\u001b[39;00m \u001b[39mpygrib\u001b[39;00m\n\u001b[0;32m      <a href='vscode-notebook-cell:/d%3A/Programacao/TCC/CDS_api.ipynb#W5sZmlsZQ%3D%3D?line=2'>3</a>\u001b[0m file \u001b[39m=\u001b[39m \u001b[39m'\u001b[39m\u001b[39mRJ_2021.grib\u001b[39m\u001b[39m'\u001b[39m \u001b[39m#example filename\u001b[39;00m\n\u001b[0;32m      <a href='vscode-notebook-cell:/d%3A/Programacao/TCC/CDS_api.ipynb#W5sZmlsZQ%3D%3D?line=4'>5</a>\u001b[0m gr \u001b[39m=\u001b[39m pygrib\u001b[39m.\u001b[39mopen(file)\n",
            "\u001b[1;31mModuleNotFoundError\u001b[0m: No module named 'pygrib'"
          ]
        }
      ],
      "source": [
        "import pygrib\n",
        "\n",
        "file = 'RJ_2021.grib' #example filename\n",
        "\n",
        "gr = pygrib.open(file)"
      ]
    },
    {
      "cell_type": "code",
      "execution_count": null,
      "metadata": {},
      "outputs": [],
      "source": [
        "grb = gr.select()[0]\n",
        "data = grb.values"
      ]
    }
  ],
  "metadata": {
    "colab": {
      "provenance": []
    },
    "kernelspec": {
      "display_name": "Python 3.10.6 64-bit (windows store)",
      "language": "python",
      "name": "python3"
    },
    "language_info": {
      "codemirror_mode": {
        "name": "ipython",
        "version": 3
      },
      "file_extension": ".py",
      "mimetype": "text/x-python",
      "name": "python",
      "nbconvert_exporter": "python",
      "pygments_lexer": "ipython3",
      "version": "3.10.8"
    },
    "vscode": {
      "interpreter": {
        "hash": "326e4f63ad54c217260fc7be1c53acea6ef3ea6cd7ac93b3b02195c6d8fa7cb8"
      }
    }
  },
  "nbformat": 4,
  "nbformat_minor": 0
}
